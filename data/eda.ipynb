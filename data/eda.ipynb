{
 "cells": [
  {
   "cell_type": "code",
   "execution_count": 1,
   "metadata": {},
   "outputs": [],
   "source": [
    "import pandas as pd\n",
    "import numpy as np\n",
    "import plotly.express as px\n",
    "import matplotlib.pyplot as plt\n",
    "import seaborn as sns"
   ]
  },
  {
   "cell_type": "code",
   "execution_count": 2,
   "metadata": {},
   "outputs": [
    {
     "data": {
      "text/html": [
       "<div>\n",
       "<style scoped>\n",
       "    .dataframe tbody tr th:only-of-type {\n",
       "        vertical-align: middle;\n",
       "    }\n",
       "\n",
       "    .dataframe tbody tr th {\n",
       "        vertical-align: top;\n",
       "    }\n",
       "\n",
       "    .dataframe thead th {\n",
       "        text-align: right;\n",
       "    }\n",
       "</style>\n",
       "<table border=\"1\" class=\"dataframe\">\n",
       "  <thead>\n",
       "    <tr style=\"text-align: right;\">\n",
       "      <th></th>\n",
       "      <th>Record ID</th>\n",
       "      <th>Aircraft: Type</th>\n",
       "      <th>Airport: Name</th>\n",
       "      <th>Altitude bin</th>\n",
       "      <th>Aircraft: Make/Model</th>\n",
       "      <th>Wildlife: Number struck</th>\n",
       "      <th>Wildlife: Number Struck Actual</th>\n",
       "      <th>Effect: Impact to flight</th>\n",
       "      <th>FlightDate</th>\n",
       "      <th>Effect: Indicated Damage</th>\n",
       "      <th>...</th>\n",
       "      <th>Remains of wildlife sent to Smithsonian</th>\n",
       "      <th>Remarks</th>\n",
       "      <th>Wildlife: Size</th>\n",
       "      <th>Conditions: Sky</th>\n",
       "      <th>Wildlife: Species</th>\n",
       "      <th>Pilot warned of birds or wildlife?</th>\n",
       "      <th>Cost: Total $</th>\n",
       "      <th>Feet above ground</th>\n",
       "      <th>Number of people injured</th>\n",
       "      <th>Is Aircraft Large?</th>\n",
       "    </tr>\n",
       "    <tr>\n",
       "      <th>Record ID</th>\n",
       "      <th></th>\n",
       "      <th></th>\n",
       "      <th></th>\n",
       "      <th></th>\n",
       "      <th></th>\n",
       "      <th></th>\n",
       "      <th></th>\n",
       "      <th></th>\n",
       "      <th></th>\n",
       "      <th></th>\n",
       "      <th></th>\n",
       "      <th></th>\n",
       "      <th></th>\n",
       "      <th></th>\n",
       "      <th></th>\n",
       "      <th></th>\n",
       "      <th></th>\n",
       "      <th></th>\n",
       "      <th></th>\n",
       "      <th></th>\n",
       "      <th></th>\n",
       "    </tr>\n",
       "  </thead>\n",
       "  <tbody>\n",
       "    <tr>\n",
       "      <th>202152</th>\n",
       "      <td>202152</td>\n",
       "      <td>Airplane</td>\n",
       "      <td>LAGUARDIA NY</td>\n",
       "      <td>&gt; 1000 ft</td>\n",
       "      <td>B-737-400</td>\n",
       "      <td>Over 100</td>\n",
       "      <td>859</td>\n",
       "      <td>Engine Shut Down</td>\n",
       "      <td>2000-11-23</td>\n",
       "      <td>Caused damage</td>\n",
       "      <td>...</td>\n",
       "      <td>False</td>\n",
       "      <td>FLT 753. PILOT REPTD A HUNDRED BIRDS ON UNKN T...</td>\n",
       "      <td>Medium</td>\n",
       "      <td>No Cloud</td>\n",
       "      <td>Unknown bird - medium</td>\n",
       "      <td>N</td>\n",
       "      <td>30736</td>\n",
       "      <td>1500.0</td>\n",
       "      <td>0</td>\n",
       "      <td>Yes</td>\n",
       "    </tr>\n",
       "    <tr>\n",
       "      <th>208159</th>\n",
       "      <td>208159</td>\n",
       "      <td>Airplane</td>\n",
       "      <td>DALLAS/FORT WORTH INTL ARPT</td>\n",
       "      <td>&lt; 1000 ft</td>\n",
       "      <td>MD-80</td>\n",
       "      <td>Over 100</td>\n",
       "      <td>424</td>\n",
       "      <td>NaN</td>\n",
       "      <td>2001-07-25</td>\n",
       "      <td>Caused damage</td>\n",
       "      <td>...</td>\n",
       "      <td>False</td>\n",
       "      <td>102 CARCASSES FOUND. 1 LDG LIGHT ON NOSE GEAR ...</td>\n",
       "      <td>Small</td>\n",
       "      <td>Some Cloud</td>\n",
       "      <td>Rock pigeon</td>\n",
       "      <td>Y</td>\n",
       "      <td>0</td>\n",
       "      <td>0.0</td>\n",
       "      <td>0</td>\n",
       "      <td>No</td>\n",
       "    </tr>\n",
       "  </tbody>\n",
       "</table>\n",
       "<p>2 rows × 26 columns</p>\n",
       "</div>"
      ],
      "text/plain": [
       "           Record ID Aircraft: Type                Airport: Name Altitude bin  \\\n",
       "Record ID                                                                       \n",
       "202152        202152       Airplane                 LAGUARDIA NY    > 1000 ft   \n",
       "208159        208159       Airplane  DALLAS/FORT WORTH INTL ARPT    < 1000 ft   \n",
       "\n",
       "          Aircraft: Make/Model Wildlife: Number struck  \\\n",
       "Record ID                                                \n",
       "202152               B-737-400                Over 100   \n",
       "208159                   MD-80                Over 100   \n",
       "\n",
       "           Wildlife: Number Struck Actual Effect: Impact to flight FlightDate  \\\n",
       "Record ID                                                                       \n",
       "202152                                859         Engine Shut Down 2000-11-23   \n",
       "208159                                424                      NaN 2001-07-25   \n",
       "\n",
       "          Effect: Indicated Damage  ...  \\\n",
       "Record ID                           ...   \n",
       "202152               Caused damage  ...   \n",
       "208159               Caused damage  ...   \n",
       "\n",
       "          Remains of wildlife sent to Smithsonian  \\\n",
       "Record ID                                           \n",
       "202152                                      False   \n",
       "208159                                      False   \n",
       "\n",
       "                                                     Remarks Wildlife: Size  \\\n",
       "Record ID                                                                     \n",
       "202152     FLT 753. PILOT REPTD A HUNDRED BIRDS ON UNKN T...         Medium   \n",
       "208159     102 CARCASSES FOUND. 1 LDG LIGHT ON NOSE GEAR ...          Small   \n",
       "\n",
       "          Conditions: Sky      Wildlife: Species  \\\n",
       "Record ID                                          \n",
       "202152           No Cloud  Unknown bird - medium   \n",
       "208159         Some Cloud            Rock pigeon   \n",
       "\n",
       "           Pilot warned of birds or wildlife?  Cost: Total $  \\\n",
       "Record ID                                                      \n",
       "202152                                      N          30736   \n",
       "208159                                      Y              0   \n",
       "\n",
       "          Feet above ground Number of people injured Is Aircraft Large?  \n",
       "Record ID                                                                \n",
       "202152               1500.0                        0                Yes  \n",
       "208159                  0.0                        0                 No  \n",
       "\n",
       "[2 rows x 26 columns]"
      ]
     },
     "execution_count": 2,
     "metadata": {},
     "output_type": "execute_result"
    }
   ],
   "source": [
    "df = pd.read_excel(\"./data.xlsx\")\n",
    "df.set_index(\"Record ID\",drop=False,inplace=True)\n",
    "df.head(2)"
   ]
  },
  {
   "cell_type": "code",
   "execution_count": 4,
   "metadata": {},
   "outputs": [
    {
     "name": "stdout",
     "output_type": "stream",
     "text": [
      "<class 'pandas.core.frame.DataFrame'>\n",
      "Index: 25558 entries, 202152 to 319593\n",
      "Data columns (total 26 columns):\n",
      " #   Column                                   Non-Null Count  Dtype         \n",
      "---  ------                                   --------------  -----         \n",
      " 0   Record ID                                25558 non-null  int64         \n",
      " 1   Aircraft: Type                           25429 non-null  object        \n",
      " 2   Airport: Name                            25429 non-null  object        \n",
      " 3   Altitude bin                             25429 non-null  object        \n",
      " 4   Aircraft: Make/Model                     25558 non-null  object        \n",
      " 5   Wildlife: Number struck                  25429 non-null  object        \n",
      " 6   Wildlife: Number Struck Actual           25558 non-null  int64         \n",
      " 7   Effect: Impact to flight                 2078 non-null   object        \n",
      " 8   FlightDate                               25429 non-null  datetime64[ns]\n",
      " 9   Effect: Indicated Damage                 25558 non-null  object        \n",
      " 10  Aircraft: Number of engines?             25291 non-null  object        \n",
      " 11  Aircraft: Airline/Operator               25429 non-null  object        \n",
      " 12  Origin State                             25109 non-null  object        \n",
      " 13  When: Phase of flight                    25429 non-null  object        \n",
      " 14  Conditions: Precipitation                2015 non-null   object        \n",
      " 15  Remains of wildlife collected?           25558 non-null  bool          \n",
      " 16  Remains of wildlife sent to Smithsonian  25558 non-null  bool          \n",
      " 17  Remarks                                  20787 non-null  object        \n",
      " 18  Wildlife: Size                           25429 non-null  object        \n",
      " 19  Conditions: Sky                          25558 non-null  object        \n",
      " 20  Wildlife: Species                        25558 non-null  object        \n",
      " 21  Pilot warned of birds or wildlife?       25429 non-null  object        \n",
      " 22  Cost: Total $                            25558 non-null  int64         \n",
      " 23  Feet above ground                        25429 non-null  float64       \n",
      " 24  Number of people injured                 25558 non-null  int64         \n",
      " 25  Is Aircraft Large?                       25429 non-null  object        \n",
      "dtypes: bool(2), datetime64[ns](1), float64(1), int64(4), object(18)\n",
      "memory usage: 4.9+ MB\n"
     ]
    }
   ],
   "source": [
    "df.info()"
   ]
  },
  {
   "cell_type": "code",
   "execution_count": 5,
   "metadata": {},
   "outputs": [],
   "source": [
    "df[\"Aircraft: Make/Model\"] = df[\"Aircraft: Make/Model\"].astype(\"category\")\n",
    "df[\"Airport: Name\"] = df[\"Airport: Name\"].astype(\"category\")\n",
    "df[\"Conditions: Sky\"] = df[\"Conditions: Sky\"].astype(\"category\")\n",
    "df[\"Conditions: Precipitation\"] = df[\"Conditions: Precipitation\"].astype(\"category\")\n",
    "df[\"Is Aircraft Large?\"] =df[\"Is Aircraft Large?\"].map({\"Yes\": True, \"No\": False})\n",
    "df[\"Wildlife: Size\"] = df[\"Wildlife: Size\"].astype(\"category\")\n",
    "df[\"Effect: Indicated Damage\"] =df[\"Effect: Indicated Damage\"].astype('category')\n",
    "df[\"Effect: Impact to flight\"] = df[\"Effect: Impact to flight\"].astype('category')\n",
    "df[\"Aircraft: Type\"] = df[\"Aircraft: Type\"].astype(\"category\")\n",
    "df[\"Pilot warned of birds or wildlife?\"] = df[\"Pilot warned of birds or wildlife?\"].map({\"Y\": True, \"N\": False, np.nan: np.nan})\n",
    "df[\"Origin State\"] = df[\"Origin State\"].astype(\"category\")\n",
    "df[\"Effect: Indicated Damage\"] = df[\"Effect: Indicated Damage\"].map({\"Caused damage\": True, \"No damage\": False}).astype(\"boolean\")\n"
   ]
  },
  {
   "cell_type": "code",
   "execution_count": 6,
   "metadata": {},
   "outputs": [
    {
     "data": {
      "text/plain": [
       "(25558, 26)"
      ]
     },
     "execution_count": 6,
     "metadata": {},
     "output_type": "execute_result"
    }
   ],
   "source": [
    "df.drop_duplicates(inplace=True)\n",
    "df.shape"
   ]
  },
  {
   "cell_type": "code",
   "execution_count": 7,
   "metadata": {},
   "outputs": [],
   "source": [
    "def get_null_list():\n",
    "    nulls = {}\n",
    "\n",
    "    for i in df.columns:\n",
    "        nulls[i] = df[df[i].isna()].shape[0]\n",
    "\n",
    "    return nulls\n"
   ]
  },
  {
   "cell_type": "code",
   "execution_count": 8,
   "metadata": {},
   "outputs": [],
   "source": [
    "df[\"Wildlife: Number struck\"] = df[\"Wildlife: Number struck\"].mask(df[\"Wildlife: Number Struck Actual\"] > 100, \"Over 100\")\n",
    "df[\"Wildlife: Number struck\"] = df[\"Wildlife: Number struck\"].mask((df[\"Wildlife: Number Struck Actual\"] <= 100) & ( df[\"Wildlife: Number Struck Actual\"] >= 11), \"11 to 100\")\n",
    "df[\"Wildlife: Number struck\"] = df[\"Wildlife: Number struck\"].mask((df[\"Wildlife: Number Struck Actual\"] >= 2) & (df[\"Wildlife: Number Struck Actual\"] <= 10), \"2 to 10\")\n",
    "df[\"Wildlife: Number struck\"] = df[\"Wildlife: Number struck\"].mask(df[\"Wildlife: Number Struck Actual\"] == 1, 1)\n",
    "df[\"Is Aircraft Large?\"] = df[\"Is Aircraft Large?\"].mask(df[\"Aircraft: Number of engines?\"] == 1, \"No\")\n"
   ]
  },
  {
   "cell_type": "code",
   "execution_count": 9,
   "metadata": {},
   "outputs": [],
   "source": [
    "df = df.dropna(how=\"all\", axis=0)\n",
    "df = df.dropna(subset=[\"Feet above ground\"], how=\"any\", axis=0)\n",
    "\n",
    "df = df.dropna(subset=[\n",
    "    'Aircraft: Number of engines?',\n",
    "    \"Effect: Impact to flight\",\n",
    "    \"Conditions: Precipitation\"\n",
    "],axis=0, how=\"all\")\n",
    "\n",
    "cond1 = df['Aircraft: Number of engines?']\n",
    "\n",
    "df[\n",
    "    (df['Aircraft: Number of engines?'].isna()) &\n",
    "    (df[\"Effect: Impact to flight\"].isna()) &\n",
    "    (df[\"Conditions: Precipitation\"].isna())\n",
    "].shape\n",
    "\n",
    "df = df.dropna(subset=[\"Aircraft: Number of engines?\"], how=\"any\", axis=0)\n",
    "\n",
    "df[\"Pilot warned of birds or wildlife?\"] = df[\"Pilot warned of birds or wildlife?\"].astype(\"boolean\")\n",
    "df = df.drop(labels=['Effect: Impact to flight', \"Conditions: Precipitation\", \"Remarks\"], axis = 1)"
   ]
  },
  {
   "cell_type": "code",
   "execution_count": 10,
   "metadata": {},
   "outputs": [
    {
     "data": {
      "text/plain": [
       "{'Record ID': 0,\n",
       " 'Aircraft: Type': 0,\n",
       " 'Airport: Name': 0,\n",
       " 'Altitude bin': 0,\n",
       " 'Aircraft: Make/Model': 0,\n",
       " 'Wildlife: Number struck': 0,\n",
       " 'Wildlife: Number Struck Actual': 0,\n",
       " 'FlightDate': 0,\n",
       " 'Effect: Indicated Damage': 0,\n",
       " 'Aircraft: Number of engines?': 0,\n",
       " 'Aircraft: Airline/Operator': 0,\n",
       " 'Origin State': 448,\n",
       " 'When: Phase of flight': 0,\n",
       " 'Remains of wildlife collected?': 0,\n",
       " 'Remains of wildlife sent to Smithsonian': 0,\n",
       " 'Wildlife: Size': 0,\n",
       " 'Conditions: Sky': 0,\n",
       " 'Wildlife: Species': 0,\n",
       " 'Pilot warned of birds or wildlife?': 0,\n",
       " 'Cost: Total $': 0,\n",
       " 'Feet above ground': 0,\n",
       " 'Number of people injured': 0,\n",
       " 'Is Aircraft Large?': 0}"
      ]
     },
     "execution_count": 10,
     "metadata": {},
     "output_type": "execute_result"
    }
   ],
   "source": [
    "get_null_list()"
   ]
  },
  {
   "cell_type": "code",
   "execution_count": 11,
   "metadata": {},
   "outputs": [],
   "source": [
    "from collections import Counter\n",
    "\n",
    "tt =  'Aircraft: Airline/Operator'\n",
    "x = df[df[\"Origin State\"].isna()][tt].to_list()\n",
    "x = set(x)\n",
    "\n",
    "for i in x:\n",
    "    l = df[(~df[\"Origin State\"].isna()) & (df[tt] == i)][\"Origin State\"].to_list()\n",
    "    if len(l) > 0:    \n",
    "        df[\"Origin State\"] = df[\"Origin State\"].mask((df[tt] == i) & (df[\"Origin State\"].isna()), Counter(l).most_common()[0][0])\n"
   ]
  },
  {
   "cell_type": "code",
   "execution_count": 12,
   "metadata": {},
   "outputs": [],
   "source": [
    "df = df.dropna(axis=0, subset=[\"Origin State\"])"
   ]
  },
  {
   "cell_type": "code",
   "execution_count": 13,
   "metadata": {},
   "outputs": [],
   "source": [
    "df[\"Altitude bin\"] = df[\"Altitude bin\"].astype(\"category\")\n",
    "df[\"Is Aircraft Large?\"] = df[\"Is Aircraft Large?\"].map(\n",
    "    {\"No\": False, True: True, False: False})\n",
    "df[\"Wildlife: Species\"] = df[\"Wildlife: Species\"].astype('category')\n",
    "df[\"Aircraft: Airline/Operator\"] = df[\"Aircraft: Airline/Operator\"].astype(\n",
    "    \"category\")\n",
    "df[\"When: Phase of flight\"] = df[\"When: Phase of flight\"].astype(\"category\")\n",
    "df[\"Wildlife: Number struck\"] = df[\"Wildlife: Number struck\"].map(\n",
    "    {\"Over 100\": \"Over 100\", \"2 to 10\": \"2 to 10\", \"11 to 100\": \"11 to 100\", 1: \"1\"}).astype(\"category\")\n",
    "df[\"Aircraft: Number of engines?\"] = df[\"Aircraft: Number of engines?\"].map(\n",
    "    {\"C\": \"C\", 1: \"1\", 2: \"2\", 3: \"3\", 4: \"4\"}).astype(\"category\")\n",
    "\n",
    "df[\"Remains of wildlife collected?\"] = df[\"Remains of wildlife collected?\"].astype(\"boolean\")\n",
    "df[\"Remains of wildlife sent to Smithsonian\"] = df[\"Remains of wildlife sent to Smithsonian\"].astype(\"boolean\")"
   ]
  },
  {
   "cell_type": "code",
   "execution_count": 14,
   "metadata": {},
   "outputs": [
    {
     "name": "stdout",
     "output_type": "stream",
     "text": [
      "<class 'pandas.core.frame.DataFrame'>\n",
      "Index: 25193 entries, 202152 to 319593\n",
      "Data columns (total 23 columns):\n",
      " #   Column                                   Non-Null Count  Dtype         \n",
      "---  ------                                   --------------  -----         \n",
      " 0   Record ID                                25193 non-null  int64         \n",
      " 1   Aircraft: Type                           25193 non-null  category      \n",
      " 2   Airport: Name                            25193 non-null  category      \n",
      " 3   Altitude bin                             25193 non-null  category      \n",
      " 4   Aircraft: Make/Model                     25193 non-null  category      \n",
      " 5   Wildlife: Number struck                  25193 non-null  category      \n",
      " 6   Wildlife: Number Struck Actual           25193 non-null  int64         \n",
      " 7   FlightDate                               25193 non-null  datetime64[ns]\n",
      " 8   Effect: Indicated Damage                 25193 non-null  boolean       \n",
      " 9   Aircraft: Number of engines?             25193 non-null  category      \n",
      " 10  Aircraft: Airline/Operator               25193 non-null  category      \n",
      " 11  Origin State                             25193 non-null  category      \n",
      " 12  When: Phase of flight                    25193 non-null  category      \n",
      " 13  Remains of wildlife collected?           25193 non-null  boolean       \n",
      " 14  Remains of wildlife sent to Smithsonian  25193 non-null  boolean       \n",
      " 15  Wildlife: Size                           25193 non-null  category      \n",
      " 16  Conditions: Sky                          25193 non-null  category      \n",
      " 17  Wildlife: Species                        25193 non-null  category      \n",
      " 18  Pilot warned of birds or wildlife?       25193 non-null  boolean       \n",
      " 19  Cost: Total $                            25193 non-null  int64         \n",
      " 20  Feet above ground                        25193 non-null  float64       \n",
      " 21  Number of people injured                 25193 non-null  int64         \n",
      " 22  Is Aircraft Large?                       25193 non-null  bool          \n",
      "dtypes: bool(1), boolean(4), category(12), datetime64[ns](1), float64(1), int64(4)\n",
      "memory usage: 2.0 MB\n"
     ]
    }
   ],
   "source": [
    "df.info()"
   ]
  },
  {
   "cell_type": "markdown",
   "metadata": {},
   "source": [
    "### Number of bird strikes\n",
    "\n",
    "1. Year\n",
    "2. Phase of flight\n",
    "3. Wildlife: Size, Condition: Sky\n"
   ]
  },
  {
   "cell_type": "code",
   "execution_count": 15,
   "metadata": {},
   "outputs": [],
   "source": [
    "df['year']   = df['FlightDate'].dt.year\n",
    "\n",
    "min_year, max_year = df['year'].min(), df['year'].max()\n",
    "year_groups_list = list(range(min_year, max_year+2,2))\n",
    "df['year_groups'] = pd.cut(df['year'],year_groups_list,include_lowest=True)\n",
    "df['year_groups'] = df['year_groups'].map(lambda x: f'{x.left}-{x.right}')\n",
    "\n",
    "# df['year_groups'] = df['year_groups'].astype(object)\n"
   ]
  },
  {
   "cell_type": "code",
   "execution_count": 16,
   "metadata": {},
   "outputs": [
    {
     "data": {
      "image/png": "[encoded data removed]",
      "text/plain": [
       "<Figure size 1200x1000 with 3 Axes>"
      ]
     },
     "metadata": {},
     "output_type": "display_data"
    }
   ],
   "source": [
    "df['year'] = df[\"FlightDate\"].dt.year\n",
    "\n",
    "fig, ax = plt.subplots(3, 1, figsize=(12, 10))\n",
    "\n",
    "ax1 = ax[0]\n",
    "sns.barplot(\n",
    "    df,\n",
    "    x=\"year\",\n",
    "    y=\"Wildlife: Number Struck Actual\",\n",
    "    estimator=\"sum\",\n",
    "    errorbar=None,\n",
    "    saturation=0.7,\n",
    "    width=0.5,\n",
    "    color=\"lightgreen\",\n",
    "    ax=ax1\n",
    ")\n",
    "ax1.bar_label(ax1.containers[0])\n",
    "\n",
    "ax2 = ax[1]\n",
    "\n",
    "sns.barplot(\n",
    "    df, x=\"When: Phase of flight\",\n",
    "    hue=\"Effect: Indicated Damage\",\n",
    "    y=\"Wildlife: Number Struck Actual\",\n",
    "    estimator=\"sum\",\n",
    "    errorbar=None,\n",
    "    width=0.5,\n",
    "    saturation=0.7,\n",
    "    palette=\"dark:lightgreen\",\n",
    "    ax=ax2\n",
    ")\n",
    "ax2.bar_label(ax2.containers[0])\n",
    "ax2.bar_label(ax2.containers[1])\n",
    "\n",
    "\n",
    "ax3 = ax[2]\n",
    "sns.barplot(\n",
    "    df,\n",
    "    x=\"Wildlife: Size\",\n",
    "    y=\"Wildlife: Number Struck Actual\",\n",
    "    estimator=\"sum\",\n",
    "    hue=\"Conditions: Sky\",\n",
    "    errorbar=None,\n",
    "    saturation=0.7,\n",
    "    width=0.5,\n",
    "    palette=\"dark:lightgreen\",\n",
    "    \n",
    "    ax=ax3\n",
    ")\n",
    "\n",
    "ax3.bar_label(ax3.containers[0])\n",
    "ax3.bar_label(ax3.containers[1])\n",
    "ax3.bar_label(ax3.containers[2])\n",
    "\n",
    "\n",
    "plt.show()\n",
    "\n",
    "df.drop(labels=['year'], axis=1, inplace=True)"
   ]
  },
  {
   "cell_type": "code",
   "execution_count": null,
   "metadata": {},
   "outputs": [],
   "source": [
    "sns.barplot(\n",
    "    df, x=\"When: Phase of flight\",\n",
    "    hue=\"Effect: Indicated Damage\",\n",
    "    y=\"Wildlife: Number Struck Actual\",\n",
    "    estimator=\"sum\",\n",
    "    errorbar=None,\n",
    "    width=0.5,\n",
    "    saturation=0.7,\n",
    "    palette=\"dark:lightgreen\",\n",
    "    ax=ax2\n",
    ")"
   ]
  },
  {
   "cell_type": "code",
   "execution_count": 3,
   "metadata": {},
   "outputs": [
    {
     "data": {
      "text/plain": [
       "<Axes: xlabel='Conditions: Sky', ylabel='Wildlife: Number Struck Actual'>"
      ]
     },
     "execution_count": 3,
     "metadata": {},
     "output_type": "execute_result"
    },
    {
     "data": {
      "image/png": "[encoded data removed]",
      "text/plain": [
       "<Figure size 640x480 with 1 Axes>"
      ]
     },
     "metadata": {},
     "output_type": "display_data"
    }
   ],
   "source": [
    "sns.barplot(\n",
    "    df,\n",
    "    x=\"Conditions: Sky\",\n",
    "    y=\"Wildlife: Number Struck Actual\",\n",
    "    estimator=\"sum\",\n",
    "    hue=\"Conditions: Sky\",\n",
    "    errorbar=None,\n",
    "    saturation=0.7,\n",
    "    width=0.5,\n",
    "    palette=\"dark:lightgreen\"\n",
    ")\n"
   ]
  },
  {
   "cell_type": "code",
   "execution_count": 17,
   "metadata": {},
   "outputs": [
    {
     "data": {
      "image/png": "[encoded data removed]",
      "text/plain": [
       "<Figure size 640x480 with 1 Axes>"
      ]
     },
     "metadata": {},
     "output_type": "display_data"
    }
   ],
   "source": [
    "# Effect: Indicated Damage\n",
    "pivot = df.groupby(by=[\"Effect: Indicated Damage\"]).count()[\"Record ID\"]\n",
    "\n",
    "labels = list(map(lambda x: \"Caused damage\" if x else \"No damage\", pivot.keys()))\n",
    "vals = list(pivot)\n",
    "\n",
    "plt.pie(x=vals, labels=labels, explode=[1, 0], autopct=lambda x: f'{x:.2f}',pctdistance=0.7)\n",
    "plt.legend()\n",
    "\n",
    "plt.show()"
   ]
  },
  {
   "cell_type": "code",
   "execution_count": null,
   "metadata": {},
   "outputs": [],
   "source": []
  },
  {
   "cell_type": "code",
   "execution_count": 18,
   "metadata": {},
   "outputs": [
    {
     "data": {
      "image/png": "[encoded data removed]",
      "text/plain": [
       "<Figure size 1600x400 with 6 Axes>"
      ]
     },
     "metadata": {},
     "output_type": "display_data"
    }
   ],
   "source": [
    "fig, ax = plt.subplots(1, 3, figsize=(16, 4))\n",
    "\n",
    "\n",
    "df[\"Any Cost?\"] = df[\"Cost: Total $\"].map(lambda x: False if x == 0 else True)\n",
    "\n",
    "pivot = df.groupby(by=[\n",
    "    \"Effect: Indicated Damage\",\n",
    "    \"Any Cost?\"\n",
    "]).count()[\"Record ID\"]\n",
    "\n",
    "sns.heatmap(pivot.to_numpy().reshape((2, 2)),\n",
    "            robust=True,\n",
    "            yticklabels=[\"No damage\", \"Damage\"],\n",
    "            xticklabels=[\"No Cost\", \"Cost\"],\n",
    "            cmap=\"Reds\",\n",
    "            annot=True,\n",
    "            fmt='.2f',\n",
    "            ax=ax[0]\n",
    "            )\n",
    "\n",
    "pivot = df.groupby(by=[\n",
    "    \"Effect: Indicated Damage\",\n",
    "    \"Altitude bin\",\n",
    "], observed=True).count()[\"Record ID\"]\n",
    "sns.heatmap(pivot.to_numpy().reshape((2, 2)),\n",
    "            robust=True,\n",
    "            xticklabels=[\"< 1000ft\", \"> 1000ft\"],\n",
    "            yticklabels=[\"No damage\", \"Damage\"],\n",
    "            cmap=\"Reds\",\n",
    "            annot=True,\n",
    "            fmt='.2f', ax=ax[1],\n",
    "\n",
    "            )\n",
    "\n",
    "pivot = df.groupby(by=[\n",
    "    \"Any Cost?\",\n",
    "    \"Altitude bin\",\n",
    "], observed=True).count()[\"Record ID\"]\n",
    "sns.heatmap(\n",
    "    pivot.to_numpy().reshape((2, 2)),\n",
    "    robust=True,\n",
    "    xticklabels=[\"< 1000ft\", \"> 1000ft\"],\n",
    "    yticklabels=[\"No Cost\", \"Cost\"],\n",
    "    cmap=\"Reds\",\n",
    "    annot=True,\n",
    "    fmt='.2f',\n",
    "    ax=ax[2]\n",
    ")\n",
    "\n",
    "plt.show()"
   ]
  },
  {
   "cell_type": "code",
   "execution_count": 19,
   "metadata": {},
   "outputs": [],
   "source": [
    "\n",
    "def iqr_cleaning(data: np.ndarray | pd.Series, percentile=0):\n",
    "    \"\"\"\n",
    "    IQR cleaning function.\n",
    "\n",
    "    Args:\n",
    "        data: NumPy array to be cleaned.\n",
    "        percentile: The percentile used to define outliers (default 1.5). A higher percentile removes less data.\n",
    "\n",
    "    Returns:\n",
    "        A NumPy array with outliers removed.\n",
    "    \"\"\"\n",
    "    q1 = np.percentile(data, 25)\n",
    "    q3 = np.percentile(data, 75)\n",
    "    iqr = q3 - q1\n",
    "    lower_bound = q1 - (percentile * iqr)\n",
    "    upper_bound = q3 + (percentile * iqr)\n",
    "    \n",
    "    return data[(data >= lower_bound) & (data <= upper_bound)]\n",
    "\n",
    "def grouped_mean(group, value):\n",
    "    return df.groupby(by=[group], observed=True)[value].apply(lambda x: iqr_cleaning(x).mean())"
   ]
  },
  {
   "cell_type": "code",
   "execution_count": 20,
   "metadata": {},
   "outputs": [
    {
     "name": "stdout",
     "output_type": "stream",
     "text": [
      "When: Phase of flight\n",
      "Approach         552.075255\n",
      "Climb            337.305601\n",
      "Descent         5511.194030\n",
      "Landing Roll       0.000000\n",
      "Parked             0.000000\n",
      "Take-off run       0.000000\n",
      "Taxi               0.000000\n",
      "Name: Feet above ground, dtype: float64\n",
      "\n",
      "Effect: Indicated Damage\n",
      "False      0.0\n",
      "True     189.0\n",
      "Name: Cost: Total $, dtype: float64\n",
      "\n",
      "Altitude bin\n",
      "< 1000 ft    0.0\n",
      "> 1000 ft    0.0\n",
      "Name: Cost: Total $, dtype: float64\n",
      "\n"
     ]
    }
   ],
   "source": [
    "print(grouped_mean(\"When: Phase of flight\", \"Feet above ground\"), end=\"\\n\\n\")\n",
    "print(grouped_mean(\"Effect: Indicated Damage\", \"Cost: Total $\"), end=\"\\n\\n\")\n",
    "print(grouped_mean(\"Altitude bin\", \"Cost: Total $\"), end=\"\\n\\n\")\n"
   ]
  },
  {
   "cell_type": "code",
   "execution_count": 21,
   "metadata": {},
   "outputs": [],
   "source": [
    "data_schema = {}\n",
    "for i in df.columns:\n",
    "    data_schema[i] = i"
   ]
  },
  {
   "cell_type": "code",
   "execution_count": 22,
   "metadata": {},
   "outputs": [
    {
     "data": {
      "image/png": "[encoded data removed]",
      "text/plain": [
       "<Figure size 1000x1200 with 2 Axes>"
      ]
     },
     "metadata": {},
     "output_type": "display_data"
    }
   ],
   "source": [
    "fig, axs = plt.subplots(2, 1, figsize=(10,12))\n",
    "ax = sns.barplot(\n",
    "    df,\n",
    "    x=data_schema[\"Effect: Indicated Damage\"],\n",
    "    hue=data_schema[\"Is Aircraft Large?\"],\n",
    "    y=data_schema[\"Record ID\"],\n",
    "    estimator=\"count\",\n",
    "    dodge=True,\n",
    "    errorbar=None,\n",
    "    ax=axs[0]\n",
    ")\n",
    "\n",
    "ax.set_xticks([False, True], [\"No damage\", \"damage\"])\n",
    "ax.bar_label(ax.containers[0]) # type: ignore\n",
    "ax.bar_label(ax.containers[1]) # type: ignore\n",
    "\n",
    "ax = sns.barplot(\n",
    "    df,\n",
    "    x=data_schema[\"Is Aircraft Large?\"],\n",
    "    y=data_schema[\"Feet above ground\"],\n",
    "    estimator=\"mean\",\n",
    "    dodge=True,\n",
    "    errorbar=None,\n",
    "    ax=axs[1]\n",
    ")\n",
    "\n",
    "ax.bar_label(ax.containers[0]) # type: ignore\n",
    "\n",
    "\n",
    "plt.show()"
   ]
  },
  {
   "cell_type": "code",
   "execution_count": 23,
   "metadata": {},
   "outputs": [],
   "source": [
    "class DataSchema:\n",
    "    record_id = 'Record ID'\n",
    "    aircraft_type = \"Aircraft: Type\"\n",
    "    airport_name = \"Airport: Name\"\n",
    "    \n",
    "    altitude_bin = \"Altitude bin\"\n",
    "    aircraft_make_model = \"Aircraft: Make/Model\"\n",
    "    wildlife_nbr_struck = \"Wildlife: Number struck\"\n",
    "\n",
    "    wildlife_nbr_struck_actual = \"Wildlife: Number Struck Actual\"\n",
    "    aircraft_nbr_engines = \"Aircraft: Number of engines?\"\n",
    "    aircraft_airline_operator = \"Aircraft: Airline/Operator\"\n",
    "    \n",
    "    flight_date = \"FlightDate\"\n",
    "    effect_indicated_damage = \"Effect: Indicated Damage\"\n",
    "    origin_state = \"Origin State\"\n",
    "\n",
    "    when_phase_of_flight = \"When: Phase of flight\"\n",
    "    remains_of_wildlife_collected = \"Remains of wildlife collected?\"\n",
    "    remains_of_wildlife_sent_to_smithsonian = \"Remains of wildlife sent to Smithsonian\"\n",
    "\n",
    "    wildlife_size = \"Wildlife: Size\"\n",
    "    cost_total = \"Cost: Total $\"\n",
    "    wildlife_species = \"Wildlife: Species\"\n",
    "    \n",
    "    conditions_sky = \"Conditions: Sky\"\n",
    "    pilot_warned_of_birds_or_wildlife = \"Pilot warned of birds or wildlife\"\n",
    "    feet_above_ground = \"Feet above ground\"\n",
    "\n",
    "    nbr_of_people_injured = \"Number of people injured\"\n",
    "    is_aircraft_large = \"Is Aircraft Large?\"\n"
   ]
  },
  {
   "cell_type": "code",
   "execution_count": 24,
   "metadata": {},
   "outputs": [
    {
     "data": {
      "text/plain": [
       "Aircraft: Number of engines?\n",
       "1      85.190578\n",
       "2      85.348864\n",
       "3     181.350711\n",
       "4      96.211604\n",
       "C    4000.000000\n",
       "Name: Feet above ground, dtype: float64"
      ]
     },
     "execution_count": 24,
     "metadata": {},
     "output_type": "execute_result"
    }
   ],
   "source": [
    "grouped_mean(DataSchema.aircraft_nbr_engines, DataSchema.feet_above_ground)"
   ]
  },
  {
   "cell_type": "code",
   "execution_count": 25,
   "metadata": {},
   "outputs": [
    {
     "data": {
      "text/plain": [
       "Wildlife: Size\n",
       "Large     278.341265\n",
       "Medium    289.977035\n",
       "Small      48.598102\n",
       "Name: Feet above ground, dtype: float64"
      ]
     },
     "execution_count": 25,
     "metadata": {},
     "output_type": "execute_result"
    }
   ],
   "source": [
    "grouped_mean(DataSchema.wildlife_size, DataSchema.feet_above_ground)"
   ]
  },
  {
   "cell_type": "code",
   "execution_count": 26,
   "metadata": {},
   "outputs": [],
   "source": [
    "costs =df[(df[DataSchema.effect_indicated_damage] == True) & \n",
    "   (df[\"Any Cost?\"] == True) & (df[DataSchema.is_aircraft_large]==False)][DataSchema.cost_total].to_numpy()\n"
   ]
  },
  {
   "cell_type": "code",
   "execution_count": 27,
   "metadata": {},
   "outputs": [
    {
     "data": {
      "application/vnd.plotly.v1+json": {
       "config": {
        "plotlyServerURL": "https://plot.ly"
       },
       "data": [
        {
         "histnorm": "probability",
         "nbinsx": 75,
         "type": "histogram",
         "x": [
          1481711,
          1483141,
          35146,
          10691,
          801820,
          40091,
          56127,
          12397751,
          1302,
          162481,
          3644483,
          262923,
          45556,
          65080,
          1366681,
          31239,
          169877,
          570483,
          828806,
          253548,
          467,
          4437,
          17748,
          2535,
          5071,
          5564,
          5071,
          63387,
          163538,
          6339,
          123476,
          11342,
          30869,
          131022,
          19547,
          37043,
          11731,
          154345,
          18521,
          18521,
          1234759,
          75320,
          74086,
          18040,
          6174,
          2044,
          120,
          12026,
          72158,
          101748,
          30066,
          24053,
          8199,
          40997,
          605,
          9137,
          258105,
          149347,
          7614,
          36251,
          2929,
          18741,
          34226,
          81037,
          20821,
          28522,
          119792,
          3423,
          926193,
          61608,
          17113,
          171132,
          199654,
          59896,
          19395,
          17684,
          527819,
          11112,
          6745,
          333,
          8334,
          17779,
          556,
          1111,
          36670,
          33336,
          55560,
          5556,
          20002,
          41114,
          9612,
          33336,
          73602,
          216458,
          16234,
          2164579,
          1623,
          10823,
          21646,
          432915,
          39937,
          36895,
          33732,
          2108,
          16866,
          27196,
          6325,
          231909,
          422,
          21083,
          110684,
          132433,
          848578,
          77479,
          2846160,
          26458,
          52707,
          31624,
          205,
          3080,
          20534,
          133472,
          262838,
          36458,
          5134,
          77004,
          1026710,
          114469,
          513,
          616,
          1540,
          11808,
          202468,
          241277,
          513,
          61603,
          66736,
          26245,
          73923,
          156000,
          50000,
          50,
          400000,
          100000,
          21000,
          1000,
          5000,
          20046,
          113592,
          12562,
          33409,
          1901610,
          1813,
          218051,
          31693,
          146937,
          926070,
          70356,
          312686,
          723987,
          120,
          240127,
          9371,
          570,
          2282,
          5704387,
          114088,
          667,
          38892,
          88000,
          120273,
          9488,
          134,
          33275,
          136309,
          412,
          526529,
          151009,
          4188,
          44100,
          100228,
          171186,
          11287,
          334091,
          13364,
          8018,
          32073,
          151010,
          7885,
          40091,
          13364,
          1069,
          26727,
          26162,
          2673,
          26727,
          4343,
          80182,
          4544,
          40091,
          94017,
          534547,
          21232,
          167,
          20046,
          56591,
          113591,
          802,
          20046,
          1650,
          112255,
          193773,
          66818,
          20046,
          66818,
          29273,
          10022,
          26553,
          49726,
          7810,
          13016,
          19524,
          3905,
          65,
          208256,
          32540,
          33842,
          10933,
          9111,
          2603,
          130,
          9111,
          84604,
          78096,
          1302,
          5705,
          26623,
          19016,
          562030,
          69726,
          10776,
          95081,
          24087,
          6973,
          12677,
          126774,
          7606,
          2409,
          126774,
          254,
          570,
          2535,
          21551,
          1382,
          158467,
          19016,
          760644,
          25355,
          50710,
          98544,
          53245,
          8595,
          95081,
          444,
          139451,
          3930,
          380,
          63767,
          56288,
          380,
          3676,
          82403,
          3803,
          43798,
          2223,
          617,
          8643,
          123476,
          2470,
          112182,
          9878,
          1729,
          229789,
          229789,
          133354,
          4322,
          11730,
          20991,
          1852,
          18521,
          9879,
          64731,
          370,
          30869,
          2470,
          43216,
          6050,
          19139,
          45486,
          4198,
          23584,
          74086,
          15064,
          926,
          40130,
          105832,
          270593,
          68550,
          1203,
          2405,
          12026,
          466624,
          96211,
          43896,
          13894,
          124,
          276606,
          68550,
          145579,
          60,
          318699,
          3007,
          902,
          114250,
          22851,
          24053,
          2405,
          8418,
          49309,
          2930,
          6013,
          164761,
          6615,
          902,
          15634,
          3608,
          10223,
          26458,
          60132,
          16236,
          3127,
          84185,
          4132,
          7216,
          30293,
          36079,
          79975,
          13693,
          46855,
          17570,
          30455,
          23427,
          23427,
          5857,
          23661,
          4685,
          176,
          35141,
          13471,
          17570,
          141,
          2694,
          29940,
          2460,
          4685,
          937080,
          5271,
          193273,
          4686,
          14759,
          18741,
          35141,
          14642,
          383031,
          58567,
          12241,
          29284,
          351405,
          9371,
          4100,
          1757025,
          72624,
          6442,
          38655,
          39826,
          7028,
          7051,
          29284,
          292838,
          4685,
          65596,
          4564,
          36508,
          26915,
          8442,
          2282,
          2852,
          342,
          12550,
          13831,
          34226,
          201876,
          154019,
          570,
          513,
          22818,
          60466,
          5704,
          855658,
          5932,
          21677,
          94878,
          1118,
          5704,
          68453,
          690,
          1711,
          2932,
          399307,
          347967,
          43354,
          11357,
          17113,
          70164,
          2282,
          57,
          4564,
          28522,
          570,
          45635,
          73016,
          2852,
          36166,
          2856,
          11112,
          69672,
          222239,
          2333,
          6667,
          55560,
          22224,
          182710,
          1111,
          9445,
          111120,
          52226,
          4890,
          1111197,
          5556,
          33460,
          169458,
          3556,
          7223,
          319,
          433367,
          3334,
          5556,
          1806,
          78093,
          16668,
          2945,
          2222,
          111,
          106675,
          4843,
          500039,
          169165,
          667,
          222,
          55560,
          55893,
          17335,
          15997,
          19446,
          666719,
          10001,
          91995,
          1655903,
          7035,
          3247,
          54114,
          29222,
          16234,
          43292,
          54,
          3377,
          3247,
          9199,
          107147,
          1623,
          51247,
          9416,
          208882,
          2165,
          984,
          32469,
          108229,
          82254,
          974,
          24811,
          75760,
          872325,
          12988,
          10823,
          6493,
          27057,
          6061,
          99571,
          10388,
          4546,
          51950,
          1082,
          5411,
          11905,
          32469,
          21646,
          8658,
          64937,
          3463326,
          54114,
          4329,
          130957,
          49242,
          12987,
          4329,
          24892,
          158120,
          52707,
          15812,
          8433,
          126496,
          63248,
          8433,
          319985,
          3162,
          21610,
          74843,
          5376,
          11323,
          843,
          44906,
          158120,
          8433,
          1581,
          261952,
          7379,
          26,
          263533,
          7379,
          1054,
          105,
          90,
          6325,
          1054,
          2108,
          263533,
          7116,
          26353,
          414801,
          158120,
          527,
          15812,
          6852,
          8433,
          87493,
          29515,
          527067,
          23718,
          54815,
          20489,
          22664,
          126496,
          1581,
          21,
          1265,
          34786,
          527,
          11097,
          44273,
          210827,
          5692,
          105413,
          108154,
          1054,
          2635,
          154,
          41068,
          123205,
          82137,
          7187,
          616,
          21766,
          1027,
          864490,
          23614,
          459491,
          17454,
          10267,
          231010,
          65828,
          48256,
          1027,
          25668,
          6468,
          51335,
          1130,
          2669,
          12320,
          103096,
          78235,
          103,
          71870,
          15401,
          308,
          513,
          924,
          51336,
          84190,
          41068,
          1027,
          513,
          5134,
          15401,
          5134,
          71870,
          7290,
          5134,
          154,
          103,
          22588,
          30801,
          250000,
          250000,
          30000,
          1000000,
          60000,
          500,
          4224,
          50,
          9000,
          360000,
          500,
          10234,
          200,
          14400,
          1000,
          2300,
          1700,
          14245,
          55000,
          122000,
          30000,
          25000,
          3000,
          60000,
          2900,
          300000,
          49500,
          4000,
          70000,
          11800,
          1000,
          8900,
          9000,
          1000,
          18500,
          14000,
          22000,
          5000,
          150,
          5000,
          12490,
          28408,
          52212,
          25700
         ]
        }
       ],
       "layout": {
        "template": {
         "data": {
          "bar": [
           {
            "error_x": {
             "color": "#2a3f5f"
            },
            "error_y": {
             "color": "#2a3f5f"
            },
            "marker": {
             "line": {
              "color": "#E5ECF6",
              "width": 0.5
             },
             "pattern": {
              "fillmode": "overlay",
              "size": 10,
              "solidity": 0.2
             }
            },
            "type": "bar"
           }
          ],
          "barpolar": [
           {
            "marker": {
             "line": {
              "color": "#E5ECF6",
              "width": 0.5
             },
             "pattern": {
              "fillmode": "overlay",
              "size": 10,
              "solidity": 0.2
             }
            },
            "type": "barpolar"
           }
          ],
          "carpet": [
           {
            "aaxis": {
             "endlinecolor": "#2a3f5f",
             "gridcolor": "white",
             "linecolor": "white",
             "minorgridcolor": "white",
             "startlinecolor": "#2a3f5f"
            },
            "baxis": {
             "endlinecolor": "#2a3f5f",
             "gridcolor": "white",
             "linecolor": "white",
             "minorgridcolor": "white",
             "startlinecolor": "#2a3f5f"
            },
            "type": "carpet"
           }
          ],
          "choropleth": [
           {
            "colorbar": {
             "outlinewidth": 0,
             "ticks": ""
            },
            "type": "choropleth"
           }
          ],
          "contour": [
           {
            "colorbar": {
             "outlinewidth": 0,
             "ticks": ""
            },
            "colorscale": [
             [
              0,
              "#0d0887"
             ],
             [
              0.1111111111111111,
              "#46039f"
             ],
             [
              0.2222222222222222,
              "#7201a8"
             ],
             [
              0.3333333333333333,
              "#9c179e"
             ],
             [
              0.4444444444444444,
              "#bd3786"
             ],
             [
              0.5555555555555556,
              "#d8576b"
             ],
             [
              0.6666666666666666,
              "#ed7953"
             ],
             [
              0.7777777777777778,
              "#fb9f3a"
             ],
             [
              0.8888888888888888,
              "#fdca26"
             ],
             [
              1,
              "#f0f921"
             ]
            ],
            "type": "contour"
           }
          ],
          "contourcarpet": [
           {
            "colorbar": {
             "outlinewidth": 0,
             "ticks": ""
            },
            "type": "contourcarpet"
           }
          ],
          "heatmap": [
           {
            "colorbar": {
             "outlinewidth": 0,
             "ticks": ""
            },
            "colorscale": [
             [
              0,
              "#0d0887"
             ],
             [
              0.1111111111111111,
              "#46039f"
             ],
             [
              0.2222222222222222,
              "#7201a8"
             ],
             [
              0.3333333333333333,
              "#9c179e"
             ],
             [
              0.4444444444444444,
              "#bd3786"
             ],
             [
              0.5555555555555556,
              "#d8576b"
             ],
             [
              0.6666666666666666,
              "#ed7953"
             ],
             [
              0.7777777777777778,
              "#fb9f3a"
             ],
             [
              0.8888888888888888,
              "#fdca26"
             ],
             [
              1,
              "#f0f921"
             ]
            ],
            "type": "heatmap"
           }
          ],
          "heatmapgl": [
           {
            "colorbar": {
             "outlinewidth": 0,
             "ticks": ""
            },
            "colorscale": [
             [
              0,
              "#0d0887"
             ],
             [
              0.1111111111111111,
              "#46039f"
             ],
             [
              0.2222222222222222,
              "#7201a8"
             ],
             [
              0.3333333333333333,
              "#9c179e"
             ],
             [
              0.4444444444444444,
              "#bd3786"
             ],
             [
              0.5555555555555556,
              "#d8576b"
             ],
             [
              0.6666666666666666,
              "#ed7953"
             ],
             [
              0.7777777777777778,
              "#fb9f3a"
             ],
             [
              0.8888888888888888,
              "#fdca26"
             ],
             [
              1,
              "#f0f921"
             ]
            ],
            "type": "heatmapgl"
           }
          ],
          "histogram": [
           {
            "marker": {
             "pattern": {
              "fillmode": "overlay",
              "size": 10,
              "solidity": 0.2
             }
            },
            "type": "histogram"
           }
          ],
          "histogram2d": [
           {
            "colorbar": {
             "outlinewidth": 0,
             "ticks": ""
            },
            "colorscale": [
             [
              0,
              "#0d0887"
             ],
             [
              0.1111111111111111,
              "#46039f"
             ],
             [
              0.2222222222222222,
              "#7201a8"
             ],
             [
              0.3333333333333333,
              "#9c179e"
             ],
             [
              0.4444444444444444,
              "#bd3786"
             ],
             [
              0.5555555555555556,
              "#d8576b"
             ],
             [
              0.6666666666666666,
              "#ed7953"
             ],
             [
              0.7777777777777778,
              "#fb9f3a"
             ],
             [
              0.8888888888888888,
              "#fdca26"
             ],
             [
              1,
              "#f0f921"
             ]
            ],
            "type": "histogram2d"
           }
          ],
          "histogram2dcontour": [
           {
            "colorbar": {
             "outlinewidth": 0,
             "ticks": ""
            },
            "colorscale": [
             [
              0,
              "#0d0887"
             ],
             [
              0.1111111111111111,
              "#46039f"
             ],
             [
              0.2222222222222222,
              "#7201a8"
             ],
             [
              0.3333333333333333,
              "#9c179e"
             ],
             [
              0.4444444444444444,
              "#bd3786"
             ],
             [
              0.5555555555555556,
              "#d8576b"
             ],
             [
              0.6666666666666666,
              "#ed7953"
             ],
             [
              0.7777777777777778,
              "#fb9f3a"
             ],
             [
              0.8888888888888888,
              "#fdca26"
             ],
             [
              1,
              "#f0f921"
             ]
            ],
            "type": "histogram2dcontour"
           }
          ],
          "mesh3d": [
           {
            "colorbar": {
             "outlinewidth": 0,
             "ticks": ""
            },
            "type": "mesh3d"
           }
          ],
          "parcoords": [
           {
            "line": {
             "colorbar": {
              "outlinewidth": 0,
              "ticks": ""
             }
            },
            "type": "parcoords"
           }
          ],
          "pie": [
           {
            "automargin": true,
            "type": "pie"
           }
          ],
          "scatter": [
           {
            "fillpattern": {
             "fillmode": "overlay",
             "size": 10,
             "solidity": 0.2
            },
            "type": "scatter"
           }
          ],
          "scatter3d": [
           {
            "line": {
             "colorbar": {
              "outlinewidth": 0,
              "ticks": ""
             }
            },
            "marker": {
             "colorbar": {
              "outlinewidth": 0,
              "ticks": ""
             }
            },
            "type": "scatter3d"
           }
          ],
          "scattercarpet": [
           {
            "marker": {
             "colorbar": {
              "outlinewidth": 0,
              "ticks": ""
             }
            },
            "type": "scattercarpet"
           }
          ],
          "scattergeo": [
           {
            "marker": {
             "colorbar": {
              "outlinewidth": 0,
              "ticks": ""
             }
            },
            "type": "scattergeo"
           }
          ],
          "scattergl": [
           {
            "marker": {
             "colorbar": {
              "outlinewidth": 0,
              "ticks": ""
             }
            },
            "type": "scattergl"
           }
          ],
          "scattermapbox": [
           {
            "marker": {
             "colorbar": {
              "outlinewidth": 0,
              "ticks": ""
             }
            },
            "type": "scattermapbox"
           }
          ],
          "scatterpolar": [
           {
            "marker": {
             "colorbar": {
              "outlinewidth": 0,
              "ticks": ""
             }
            },
            "type": "scatterpolar"
           }
          ],
          "scatterpolargl": [
           {
            "marker": {
             "colorbar": {
              "outlinewidth": 0,
              "ticks": ""
             }
            },
            "type": "scatterpolargl"
           }
          ],
          "scatterternary": [
           {
            "marker": {
             "colorbar": {
              "outlinewidth": 0,
              "ticks": ""
             }
            },
            "type": "scatterternary"
           }
          ],
          "surface": [
           {
            "colorbar": {
             "outlinewidth": 0,
             "ticks": ""
            },
            "colorscale": [
             [
              0,
              "#0d0887"
             ],
             [
              0.1111111111111111,
              "#46039f"
             ],
             [
              0.2222222222222222,
              "#7201a8"
             ],
             [
              0.3333333333333333,
              "#9c179e"
             ],
             [
              0.4444444444444444,
              "#bd3786"
             ],
             [
              0.5555555555555556,
              "#d8576b"
             ],
             [
              0.6666666666666666,
              "#ed7953"
             ],
             [
              0.7777777777777778,
              "#fb9f3a"
             ],
             [
              0.8888888888888888,
              "#fdca26"
             ],
             [
              1,
              "#f0f921"
             ]
            ],
            "type": "surface"
           }
          ],
          "table": [
           {
            "cells": {
             "fill": {
              "color": "#EBF0F8"
             },
             "line": {
              "color": "white"
             }
            },
            "header": {
             "fill": {
              "color": "#C8D4E3"
             },
             "line": {
              "color": "white"
             }
            },
            "type": "table"
           }
          ]
         },
         "layout": {
          "annotationdefaults": {
           "arrowcolor": "#2a3f5f",
           "arrowhead": 0,
           "arrowwidth": 1
          },
          "autotypenumbers": "strict",
          "coloraxis": {
           "colorbar": {
            "outlinewidth": 0,
            "ticks": ""
           }
          },
          "colorscale": {
           "diverging": [
            [
             0,
             "#8e0152"
            ],
            [
             0.1,
             "#c51b7d"
            ],
            [
             0.2,
             "#de77ae"
            ],
            [
             0.3,
             "#f1b6da"
            ],
            [
             0.4,
             "#fde0ef"
            ],
            [
             0.5,
             "#f7f7f7"
            ],
            [
             0.6,
             "#e6f5d0"
            ],
            [
             0.7,
             "#b8e186"
            ],
            [
             0.8,
             "#7fbc41"
            ],
            [
             0.9,
             "#4d9221"
            ],
            [
             1,
             "#276419"
            ]
           ],
           "sequential": [
            [
             0,
             "#0d0887"
            ],
            [
             0.1111111111111111,
             "#46039f"
            ],
            [
             0.2222222222222222,
             "#7201a8"
            ],
            [
             0.3333333333333333,
             "#9c179e"
            ],
            [
             0.4444444444444444,
             "#bd3786"
            ],
            [
             0.5555555555555556,
             "#d8576b"
            ],
            [
             0.6666666666666666,
             "#ed7953"
            ],
            [
             0.7777777777777778,
             "#fb9f3a"
            ],
            [
             0.8888888888888888,
             "#fdca26"
            ],
            [
             1,
             "#f0f921"
            ]
           ],
           "sequentialminus": [
            [
             0,
             "#0d0887"
            ],
            [
             0.1111111111111111,
             "#46039f"
            ],
            [
             0.2222222222222222,
             "#7201a8"
            ],
            [
             0.3333333333333333,
             "#9c179e"
            ],
            [
             0.4444444444444444,
             "#bd3786"
            ],
            [
             0.5555555555555556,
             "#d8576b"
            ],
            [
             0.6666666666666666,
             "#ed7953"
            ],
            [
             0.7777777777777778,
             "#fb9f3a"
            ],
            [
             0.8888888888888888,
             "#fdca26"
            ],
            [
             1,
             "#f0f921"
            ]
           ]
          },
          "colorway": [
           "#636efa",
           "#EF553B",
           "#00cc96",
           "#ab63fa",
           "#FFA15A",
           "#19d3f3",
           "#FF6692",
           "#B6E880",
           "#FF97FF",
           "#FECB52"
          ],
          "font": {
           "color": "#2a3f5f"
          },
          "geo": {
           "bgcolor": "white",
           "lakecolor": "white",
           "landcolor": "#E5ECF6",
           "showlakes": true,
           "showland": true,
           "subunitcolor": "white"
          },
          "hoverlabel": {
           "align": "left"
          },
          "hovermode": "closest",
          "mapbox": {
           "style": "light"
          },
          "paper_bgcolor": "white",
          "plot_bgcolor": "#E5ECF6",
          "polar": {
           "angularaxis": {
            "gridcolor": "white",
            "linecolor": "white",
            "ticks": ""
           },
           "bgcolor": "#E5ECF6",
           "radialaxis": {
            "gridcolor": "white",
            "linecolor": "white",
            "ticks": ""
           }
          },
          "scene": {
           "xaxis": {
            "backgroundcolor": "#E5ECF6",
            "gridcolor": "white",
            "gridwidth": 2,
            "linecolor": "white",
            "showbackground": true,
            "ticks": "",
            "zerolinecolor": "white"
           },
           "yaxis": {
            "backgroundcolor": "#E5ECF6",
            "gridcolor": "white",
            "gridwidth": 2,
            "linecolor": "white",
            "showbackground": true,
            "ticks": "",
            "zerolinecolor": "white"
           },
           "zaxis": {
            "backgroundcolor": "#E5ECF6",
            "gridcolor": "white",
            "gridwidth": 2,
            "linecolor": "white",
            "showbackground": true,
            "ticks": "",
            "zerolinecolor": "white"
           }
          },
          "shapedefaults": {
           "line": {
            "color": "#2a3f5f"
           }
          },
          "ternary": {
           "aaxis": {
            "gridcolor": "white",
            "linecolor": "white",
            "ticks": ""
           },
           "baxis": {
            "gridcolor": "white",
            "linecolor": "white",
            "ticks": ""
           },
           "bgcolor": "#E5ECF6",
           "caxis": {
            "gridcolor": "white",
            "linecolor": "white",
            "ticks": ""
           }
          },
          "title": {
           "x": 0.05
          },
          "xaxis": {
           "automargin": true,
           "gridcolor": "white",
           "linecolor": "white",
           "ticks": "",
           "title": {
            "standoff": 15
           },
           "zerolinecolor": "white",
           "zerolinewidth": 2
          },
          "yaxis": {
           "automargin": true,
           "gridcolor": "white",
           "linecolor": "white",
           "ticks": "",
           "title": {
            "standoff": 15
           },
           "zerolinecolor": "white",
           "zerolinewidth": 2
          }
         }
        }
       }
      }
     },
     "metadata": {},
     "output_type": "display_data"
    }
   ],
   "source": [
    "import plotly.graph_objects as go\n",
    "\n",
    "fig = go.Figure(data=[go.Histogram(x=costs, histnorm='probability',nbinsx=75)])\n",
    "fig"
   ]
  },
  {
   "cell_type": "code",
   "execution_count": 28,
   "metadata": {},
   "outputs": [
    {
     "data": {
      "application/vnd.plotly.v1+json": {
       "config": {
        "plotlyServerURL": "https://plot.ly"
       },
       "data": [
        {
         "labels": [
          false,
          true
         ],
         "title": {
          "text": "Is Pilot warned?"
         },
         "type": "pie",
         "values": [
          541,
          264
         ]
        }
       ],
       "layout": {
        "template": {
         "data": {
          "bar": [
           {
            "error_x": {
             "color": "#2a3f5f"
            },
            "error_y": {
             "color": "#2a3f5f"
            },
            "marker": {
             "line": {
              "color": "#E5ECF6",
              "width": 0.5
             },
             "pattern": {
              "fillmode": "overlay",
              "size": 10,
              "solidity": 0.2
             }
            },
            "type": "bar"
           }
          ],
          "barpolar": [
           {
            "marker": {
             "line": {
              "color": "#E5ECF6",
              "width": 0.5
             },
             "pattern": {
              "fillmode": "overlay",
              "size": 10,
              "solidity": 0.2
             }
            },
            "type": "barpolar"
           }
          ],
          "carpet": [
           {
            "aaxis": {
             "endlinecolor": "#2a3f5f",
             "gridcolor": "white",
             "linecolor": "white",
             "minorgridcolor": "white",
             "startlinecolor": "#2a3f5f"
            },
            "baxis": {
             "endlinecolor": "#2a3f5f",
             "gridcolor": "white",
             "linecolor": "white",
             "minorgridcolor": "white",
             "startlinecolor": "#2a3f5f"
            },
            "type": "carpet"
           }
          ],
          "choropleth": [
           {
            "colorbar": {
             "outlinewidth": 0,
             "ticks": ""
            },
            "type": "choropleth"
           }
          ],
          "contour": [
           {
            "colorbar": {
             "outlinewidth": 0,
             "ticks": ""
            },
            "colorscale": [
             [
              0,
              "#0d0887"
             ],
             [
              0.1111111111111111,
              "#46039f"
             ],
             [
              0.2222222222222222,
              "#7201a8"
             ],
             [
              0.3333333333333333,
              "#9c179e"
             ],
             [
              0.4444444444444444,
              "#bd3786"
             ],
             [
              0.5555555555555556,
              "#d8576b"
             ],
             [
              0.6666666666666666,
              "#ed7953"
             ],
             [
              0.7777777777777778,
              "#fb9f3a"
             ],
             [
              0.8888888888888888,
              "#fdca26"
             ],
             [
              1,
              "#f0f921"
             ]
            ],
            "type": "contour"
           }
          ],
          "contourcarpet": [
           {
            "colorbar": {
             "outlinewidth": 0,
             "ticks": ""
            },
            "type": "contourcarpet"
           }
          ],
          "heatmap": [
           {
            "colorbar": {
             "outlinewidth": 0,
             "ticks": ""
            },
            "colorscale": [
             [
              0,
              "#0d0887"
             ],
             [
              0.1111111111111111,
              "#46039f"
             ],
             [
              0.2222222222222222,
              "#7201a8"
             ],
             [
              0.3333333333333333,
              "#9c179e"
             ],
             [
              0.4444444444444444,
              "#bd3786"
             ],
             [
              0.5555555555555556,
              "#d8576b"
             ],
             [
              0.6666666666666666,
              "#ed7953"
             ],
             [
              0.7777777777777778,
              "#fb9f3a"
             ],
             [
              0.8888888888888888,
              "#fdca26"
             ],
             [
              1,
              "#f0f921"
             ]
            ],
            "type": "heatmap"
           }
          ],
          "heatmapgl": [
           {
            "colorbar": {
             "outlinewidth": 0,
             "ticks": ""
            },
            "colorscale": [
             [
              0,
              "#0d0887"
             ],
             [
              0.1111111111111111,
              "#46039f"
             ],
             [
              0.2222222222222222,
              "#7201a8"
             ],
             [
              0.3333333333333333,
              "#9c179e"
             ],
             [
              0.4444444444444444,
              "#bd3786"
             ],
             [
              0.5555555555555556,
              "#d8576b"
             ],
             [
              0.6666666666666666,
              "#ed7953"
             ],
             [
              0.7777777777777778,
              "#fb9f3a"
             ],
             [
              0.8888888888888888,
              "#fdca26"
             ],
             [
              1,
              "#f0f921"
             ]
            ],
            "type": "heatmapgl"
           }
          ],
          "histogram": [
           {
            "marker": {
             "pattern": {
              "fillmode": "overlay",
              "size": 10,
              "solidity": 0.2
             }
            },
            "type": "histogram"
           }
          ],
          "histogram2d": [
           {
            "colorbar": {
             "outlinewidth": 0,
             "ticks": ""
            },
            "colorscale": [
             [
              0,
              "#0d0887"
             ],
             [
              0.1111111111111111,
              "#46039f"
             ],
             [
              0.2222222222222222,
              "#7201a8"
             ],
             [
              0.3333333333333333,
              "#9c179e"
             ],
             [
              0.4444444444444444,
              "#bd3786"
             ],
             [
              0.5555555555555556,
              "#d8576b"
             ],
             [
              0.6666666666666666,
              "#ed7953"
             ],
             [
              0.7777777777777778,
              "#fb9f3a"
             ],
             [
              0.8888888888888888,
              "#fdca26"
             ],
             [
              1,
              "#f0f921"
             ]
            ],
            "type": "histogram2d"
           }
          ],
          "histogram2dcontour": [
           {
            "colorbar": {
             "outlinewidth": 0,
             "ticks": ""
            },
            "colorscale": [
             [
              0,
              "#0d0887"
             ],
             [
              0.1111111111111111,
              "#46039f"
             ],
             [
              0.2222222222222222,
              "#7201a8"
             ],
             [
              0.3333333333333333,
              "#9c179e"
             ],
             [
              0.4444444444444444,
              "#bd3786"
             ],
             [
              0.5555555555555556,
              "#d8576b"
             ],
             [
              0.6666666666666666,
              "#ed7953"
             ],
             [
              0.7777777777777778,
              "#fb9f3a"
             ],
             [
              0.8888888888888888,
              "#fdca26"
             ],
             [
              1,
              "#f0f921"
             ]
            ],
            "type": "histogram2dcontour"
           }
          ],
          "mesh3d": [
           {
            "colorbar": {
             "outlinewidth": 0,
             "ticks": ""
            },
            "type": "mesh3d"
           }
          ],
          "parcoords": [
           {
            "line": {
             "colorbar": {
              "outlinewidth": 0,
              "ticks": ""
             }
            },
            "type": "parcoords"
           }
          ],
          "pie": [
           {
            "automargin": true,
            "type": "pie"
           }
          ],
          "scatter": [
           {
            "fillpattern": {
             "fillmode": "overlay",
             "size": 10,
             "solidity": 0.2
            },
            "type": "scatter"
           }
          ],
          "scatter3d": [
           {
            "line": {
             "colorbar": {
              "outlinewidth": 0,
              "ticks": ""
             }
            },
            "marker": {
             "colorbar": {
              "outlinewidth": 0,
              "ticks": ""
             }
            },
            "type": "scatter3d"
           }
          ],
          "scattercarpet": [
           {
            "marker": {
             "colorbar": {
              "outlinewidth": 0,
              "ticks": ""
             }
            },
            "type": "scattercarpet"
           }
          ],
          "scattergeo": [
           {
            "marker": {
             "colorbar": {
              "outlinewidth": 0,
              "ticks": ""
             }
            },
            "type": "scattergeo"
           }
          ],
          "scattergl": [
           {
            "marker": {
             "colorbar": {
              "outlinewidth": 0,
              "ticks": ""
             }
            },
            "type": "scattergl"
           }
          ],
          "scattermapbox": [
           {
            "marker": {
             "colorbar": {
              "outlinewidth": 0,
              "ticks": ""
             }
            },
            "type": "scattermapbox"
           }
          ],
          "scatterpolar": [
           {
            "marker": {
             "colorbar": {
              "outlinewidth": 0,
              "ticks": ""
             }
            },
            "type": "scatterpolar"
           }
          ],
          "scatterpolargl": [
           {
            "marker": {
             "colorbar": {
              "outlinewidth": 0,
              "ticks": ""
             }
            },
            "type": "scatterpolargl"
           }
          ],
          "scatterternary": [
           {
            "marker": {
             "colorbar": {
              "outlinewidth": 0,
              "ticks": ""
             }
            },
            "type": "scatterternary"
           }
          ],
          "surface": [
           {
            "colorbar": {
             "outlinewidth": 0,
             "ticks": ""
            },
            "colorscale": [
             [
              0,
              "#0d0887"
             ],
             [
              0.1111111111111111,
              "#46039f"
             ],
             [
              0.2222222222222222,
              "#7201a8"
             ],
             [
              0.3333333333333333,
              "#9c179e"
             ],
             [
              0.4444444444444444,
              "#bd3786"
             ],
             [
              0.5555555555555556,
              "#d8576b"
             ],
             [
              0.6666666666666666,
              "#ed7953"
             ],
             [
              0.7777777777777778,
              "#fb9f3a"
             ],
             [
              0.8888888888888888,
              "#fdca26"
             ],
             [
              1,
              "#f0f921"
             ]
            ],
            "type": "surface"
           }
          ],
          "table": [
           {
            "cells": {
             "fill": {
              "color": "#EBF0F8"
             },
             "line": {
              "color": "white"
             }
            },
            "header": {
             "fill": {
              "color": "#C8D4E3"
             },
             "line": {
              "color": "white"
             }
            },
            "type": "table"
           }
          ]
         },
         "layout": {
          "annotationdefaults": {
           "arrowcolor": "#2a3f5f",
           "arrowhead": 0,
           "arrowwidth": 1
          },
          "autotypenumbers": "strict",
          "coloraxis": {
           "colorbar": {
            "outlinewidth": 0,
            "ticks": ""
           }
          },
          "colorscale": {
           "diverging": [
            [
             0,
             "#8e0152"
            ],
            [
             0.1,
             "#c51b7d"
            ],
            [
             0.2,
             "#de77ae"
            ],
            [
             0.3,
             "#f1b6da"
            ],
            [
             0.4,
             "#fde0ef"
            ],
            [
             0.5,
             "#f7f7f7"
            ],
            [
             0.6,
             "#e6f5d0"
            ],
            [
             0.7,
             "#b8e186"
            ],
            [
             0.8,
             "#7fbc41"
            ],
            [
             0.9,
             "#4d9221"
            ],
            [
             1,
             "#276419"
            ]
           ],
           "sequential": [
            [
             0,
             "#0d0887"
            ],
            [
             0.1111111111111111,
             "#46039f"
            ],
            [
             0.2222222222222222,
             "#7201a8"
            ],
            [
             0.3333333333333333,
             "#9c179e"
            ],
            [
             0.4444444444444444,
             "#bd3786"
            ],
            [
             0.5555555555555556,
             "#d8576b"
            ],
            [
             0.6666666666666666,
             "#ed7953"
            ],
            [
             0.7777777777777778,
             "#fb9f3a"
            ],
            [
             0.8888888888888888,
             "#fdca26"
            ],
            [
             1,
             "#f0f921"
            ]
           ],
           "sequentialminus": [
            [
             0,
             "#0d0887"
            ],
            [
             0.1111111111111111,
             "#46039f"
            ],
            [
             0.2222222222222222,
             "#7201a8"
            ],
            [
             0.3333333333333333,
             "#9c179e"
            ],
            [
             0.4444444444444444,
             "#bd3786"
            ],
            [
             0.5555555555555556,
             "#d8576b"
            ],
            [
             0.6666666666666666,
             "#ed7953"
            ],
            [
             0.7777777777777778,
             "#fb9f3a"
            ],
            [
             0.8888888888888888,
             "#fdca26"
            ],
            [
             1,
             "#f0f921"
            ]
           ]
          },
          "colorway": [
           "#636efa",
           "#EF553B",
           "#00cc96",
           "#ab63fa",
           "#FFA15A",
           "#19d3f3",
           "#FF6692",
           "#B6E880",
           "#FF97FF",
           "#FECB52"
          ],
          "font": {
           "color": "#2a3f5f"
          },
          "geo": {
           "bgcolor": "white",
           "lakecolor": "white",
           "landcolor": "#E5ECF6",
           "showlakes": true,
           "showland": true,
           "subunitcolor": "white"
          },
          "hoverlabel": {
           "align": "left"
          },
          "hovermode": "closest",
          "mapbox": {
           "style": "light"
          },
          "paper_bgcolor": "white",
          "plot_bgcolor": "#E5ECF6",
          "polar": {
           "angularaxis": {
            "gridcolor": "white",
            "linecolor": "white",
            "ticks": ""
           },
           "bgcolor": "#E5ECF6",
           "radialaxis": {
            "gridcolor": "white",
            "linecolor": "white",
            "ticks": ""
           }
          },
          "scene": {
           "xaxis": {
            "backgroundcolor": "#E5ECF6",
            "gridcolor": "white",
            "gridwidth": 2,
            "linecolor": "white",
            "showbackground": true,
            "ticks": "",
            "zerolinecolor": "white"
           },
           "yaxis": {
            "backgroundcolor": "#E5ECF6",
            "gridcolor": "white",
            "gridwidth": 2,
            "linecolor": "white",
            "showbackground": true,
            "ticks": "",
            "zerolinecolor": "white"
           },
           "zaxis": {
            "backgroundcolor": "#E5ECF6",
            "gridcolor": "white",
            "gridwidth": 2,
            "linecolor": "white",
            "showbackground": true,
            "ticks": "",
            "zerolinecolor": "white"
           }
          },
          "shapedefaults": {
           "line": {
            "color": "#2a3f5f"
           }
          },
          "ternary": {
           "aaxis": {
            "gridcolor": "white",
            "linecolor": "white",
            "ticks": ""
           },
           "baxis": {
            "gridcolor": "white",
            "linecolor": "white",
            "ticks": ""
           },
           "bgcolor": "#E5ECF6",
           "caxis": {
            "gridcolor": "white",
            "linecolor": "white",
            "ticks": ""
           }
          },
          "title": {
           "x": 0.05
          },
          "xaxis": {
           "automargin": true,
           "gridcolor": "white",
           "linecolor": "white",
           "ticks": "",
           "title": {
            "standoff": 15
           },
           "zerolinecolor": "white",
           "zerolinewidth": 2
          },
          "yaxis": {
           "automargin": true,
           "gridcolor": "white",
           "linecolor": "white",
           "ticks": "",
           "title": {
            "standoff": 15
           },
           "zerolinecolor": "white",
           "zerolinewidth": 2
          }
         }
        }
       }
      }
     },
     "metadata": {},
     "output_type": "display_data"
    }
   ],
   "source": [
    "i = df[(df[DataSchema.effect_indicated_damage] == True) & (df[\"Any Cost?\"] == True)][\"Pilot warned of birds or wildlife?\"].to_list()\n",
    "k = Counter(i)\n",
    "\n",
    "fig = go.Figure(data=[go.Pie(values=tuple(k.values()),labels=tuple(k.keys()),title=\"Is Pilot warned?\")])\n",
    "fig"
   ]
  },
  {
   "cell_type": "code",
   "execution_count": 29,
   "metadata": {},
   "outputs": [
    {
     "data": {
      "application/vnd.plotly.v1+json": {
       "config": {
        "plotlyServerURL": "https://plot.ly"
       },
       "data": [
        {
         "histnorm": "probability",
         "nbinsx": 50,
         "type": "histogram",
         "x": [
          1500,
          150,
          100,
          800,
          0,
          0,
          800,
          0,
          9000,
          100,
          0,
          0,
          700,
          150,
          0,
          1000,
          10,
          0,
          1600,
          200,
          800,
          400,
          7000,
          0,
          100,
          0,
          10800,
          15,
          30,
          14000,
          10,
          5000,
          1500,
          0,
          720,
          1000,
          0,
          400,
          0,
          0,
          0,
          0,
          0,
          0,
          0,
          20,
          25,
          4000,
          50,
          2900,
          0,
          0,
          0,
          200,
          4800,
          75,
          10,
          15,
          3000,
          0,
          200,
          5500,
          500,
          1000,
          100,
          1500,
          0,
          3200,
          0,
          500,
          50,
          0,
          0,
          350,
          2000,
          1800,
          10,
          700,
          0,
          10,
          100,
          10,
          0,
          500,
          0,
          5000,
          2,
          0,
          3000,
          200,
          800,
          5,
          3000,
          50,
          200,
          5200,
          0,
          3500,
          0,
          5,
          10,
          5,
          0,
          50,
          5,
          1000,
          5,
          3000,
          50,
          1000,
          2900,
          1500,
          100,
          10,
          100,
          1800,
          4000,
          0,
          0,
          0,
          2000,
          15,
          600,
          1500,
          2400,
          0,
          0,
          600,
          3,
          10,
          4000,
          2000,
          0,
          10,
          5500,
          200,
          4260,
          500,
          800,
          2000,
          1200,
          2000,
          20,
          0,
          6000,
          200,
          900,
          20,
          0,
          0,
          0,
          5,
          6800,
          5,
          10,
          0,
          5,
          500,
          800,
          4000,
          6600,
          800,
          0,
          5,
          1000,
          2000,
          1200,
          2000,
          1200,
          0,
          0,
          300,
          2500,
          0,
          300,
          3800,
          400,
          0,
          1900,
          150,
          2500,
          10,
          10,
          200,
          5,
          14000,
          0,
          75,
          50,
          0,
          10,
          2300,
          0,
          500,
          0,
          200,
          50,
          0,
          10,
          10,
          100,
          0,
          0,
          50,
          35,
          20,
          10,
          0,
          30,
          200,
          1000,
          400,
          100,
          3000,
          200,
          0,
          0,
          3000,
          1500,
          400,
          2500,
          2400,
          5000,
          700,
          5000,
          500,
          100,
          2000,
          1000,
          0,
          50,
          1400,
          0,
          0,
          1500,
          9,
          50,
          50,
          0,
          0,
          0,
          0,
          0,
          0,
          750,
          10000,
          3000,
          0,
          100,
          50,
          0,
          500,
          200,
          1800,
          300,
          1800,
          2300,
          50,
          0,
          4500,
          3000,
          0,
          150,
          100,
          5500,
          10000,
          0,
          0,
          1000,
          500,
          0,
          0,
          0,
          0,
          0,
          100,
          0,
          2000,
          0,
          2800,
          1500,
          8000,
          2000,
          800,
          180,
          0,
          5000,
          0,
          0,
          0,
          1500,
          0,
          100,
          2000,
          5,
          100,
          3000,
          0,
          1800,
          0,
          100,
          2000,
          0,
          10,
          1000,
          0,
          0,
          0,
          0,
          0,
          200,
          6,
          500,
          800,
          300,
          1500,
          4000,
          12000,
          75,
          0,
          1000,
          1000,
          0,
          7000,
          15,
          300,
          150,
          400,
          150,
          400,
          350,
          300,
          0,
          2,
          50,
          0,
          0,
          1500,
          2000,
          1800,
          0,
          0,
          5,
          25,
          0,
          300,
          0,
          75,
          0,
          400,
          800,
          0,
          0,
          1500,
          1000,
          100,
          0,
          4,
          0,
          1000,
          600,
          500,
          0,
          1500,
          50,
          0,
          1200,
          0,
          100,
          5000,
          800,
          0,
          0,
          100,
          0,
          0,
          1000,
          0,
          20,
          0,
          0,
          0,
          600,
          0,
          400,
          100,
          0,
          750,
          0,
          500,
          50,
          0,
          300,
          10000,
          0,
          10,
          0,
          3000,
          1000,
          30,
          30,
          200,
          2500,
          150,
          0,
          9500,
          0,
          4300,
          0,
          0,
          1650,
          0,
          1000,
          35,
          200,
          0,
          2000,
          0,
          600,
          50,
          500,
          0,
          200,
          450,
          500,
          2000,
          3500,
          400,
          0,
          10,
          300,
          0,
          700,
          200,
          1800,
          300,
          0,
          50,
          0,
          30,
          0,
          300,
          0,
          75,
          40,
          2500,
          0,
          0,
          8500,
          4500,
          0,
          6100,
          1000,
          4000,
          0,
          20,
          60,
          2300,
          0,
          1200,
          400,
          20,
          0,
          1500,
          350,
          100,
          820,
          0,
          10,
          3000,
          600,
          50,
          900,
          800,
          1750,
          5100,
          100,
          3000,
          1500,
          560,
          0,
          0,
          2000,
          2500,
          2200,
          1500,
          800,
          0,
          20,
          800,
          0,
          1500,
          3,
          0,
          5,
          0,
          1300,
          0,
          20,
          0,
          0,
          10,
          2130,
          0,
          10,
          4000,
          1800,
          50,
          2200,
          0,
          7100,
          500,
          250,
          30,
          600,
          350,
          520,
          0,
          0,
          1000,
          1200,
          0,
          1000,
          75,
          2000,
          0,
          750,
          14000,
          0,
          400,
          0,
          4100,
          1800,
          800,
          10,
          190,
          1500,
          0,
          0,
          0,
          5,
          13400,
          50,
          0,
          0,
          1500,
          0,
          0,
          150,
          2300,
          400,
          1000,
          0,
          500,
          0,
          250,
          200,
          2400,
          0,
          20,
          200,
          500,
          0,
          200,
          0,
          400,
          200,
          200,
          2000,
          0,
          500,
          1400,
          30,
          75,
          5800,
          100,
          0,
          1300,
          50,
          1000,
          2400,
          900,
          7500,
          400,
          200,
          500,
          1200,
          0,
          500,
          400,
          100,
          400,
          0,
          3000,
          0,
          2100,
          0,
          0,
          0,
          0,
          0,
          100,
          100,
          300,
          500,
          1300,
          1500,
          300,
          2000,
          4000,
          40,
          1300,
          0,
          10,
          7000,
          3500,
          350,
          8000,
          10,
          1500,
          7500,
          1000,
          0,
          0,
          10000,
          800,
          2500,
          2200,
          1800,
          0,
          525,
          6000,
          700,
          200,
          800,
          2500,
          5000,
          0,
          0,
          0,
          400,
          2400,
          200,
          2500,
          0,
          14000,
          1000,
          4,
          1000,
          0,
          0,
          2000,
          0,
          3800,
          0,
          20,
          150,
          600,
          0,
          0,
          100,
          1200,
          1500,
          300,
          0,
          2500,
          0,
          1100,
          2600,
          50,
          5,
          3500,
          10,
          10,
          0,
          50,
          300,
          0,
          8000,
          7000,
          1500,
          500,
          800,
          8000,
          700,
          7000,
          200,
          800,
          1000,
          0,
          0,
          2800,
          5,
          10,
          800,
          65,
          200,
          75,
          1200,
          50,
          300,
          2800,
          10,
          25,
          2700,
          500,
          3000,
          400,
          0,
          0,
          4000,
          0,
          0,
          4000,
          550,
          0,
          4500,
          2000,
          500,
          3000,
          10,
          2000,
          0,
          300,
          75,
          0,
          0,
          1500,
          0,
          0,
          5,
          11000,
          5,
          0,
          500,
          40,
          50,
          2500,
          3000,
          7,
          400,
          10,
          800,
          1000,
          100,
          2500,
          0,
          400,
          5000,
          100,
          1800,
          650,
          100,
          1000,
          400,
          800,
          6,
          1000,
          2500,
          3400,
          200,
          4000,
          10,
          100,
          150,
          0,
          15000,
          4,
          0,
          300,
          200,
          10,
          0,
          200,
          2000,
          0,
          0,
          9700,
          0,
          0,
          30,
          0,
          0,
          2400,
          1000,
          12000,
          300,
          100,
          1500,
          1100,
          900,
          6000,
          300,
          1000,
          800,
          40,
          1000,
          0,
          4000,
          1300,
          500,
          1000,
          2000,
          7500,
          0
         ]
        }
       ],
       "layout": {
        "template": {
         "data": {
          "bar": [
           {
            "error_x": {
             "color": "#2a3f5f"
            },
            "error_y": {
             "color": "#2a3f5f"
            },
            "marker": {
             "line": {
              "color": "#E5ECF6",
              "width": 0.5
             },
             "pattern": {
              "fillmode": "overlay",
              "size": 10,
              "solidity": 0.2
             }
            },
            "type": "bar"
           }
          ],
          "barpolar": [
           {
            "marker": {
             "line": {
              "color": "#E5ECF6",
              "width": 0.5
             },
             "pattern": {
              "fillmode": "overlay",
              "size": 10,
              "solidity": 0.2
             }
            },
            "type": "barpolar"
           }
          ],
          "carpet": [
           {
            "aaxis": {
             "endlinecolor": "#2a3f5f",
             "gridcolor": "white",
             "linecolor": "white",
             "minorgridcolor": "white",
             "startlinecolor": "#2a3f5f"
            },
            "baxis": {
             "endlinecolor": "#2a3f5f",
             "gridcolor": "white",
             "linecolor": "white",
             "minorgridcolor": "white",
             "startlinecolor": "#2a3f5f"
            },
            "type": "carpet"
           }
          ],
          "choropleth": [
           {
            "colorbar": {
             "outlinewidth": 0,
             "ticks": ""
            },
            "type": "choropleth"
           }
          ],
          "contour": [
           {
            "colorbar": {
             "outlinewidth": 0,
             "ticks": ""
            },
            "colorscale": [
             [
              0,
              "#0d0887"
             ],
             [
              0.1111111111111111,
              "#46039f"
             ],
             [
              0.2222222222222222,
              "#7201a8"
             ],
             [
              0.3333333333333333,
              "#9c179e"
             ],
             [
              0.4444444444444444,
              "#bd3786"
             ],
             [
              0.5555555555555556,
              "#d8576b"
             ],
             [
              0.6666666666666666,
              "#ed7953"
             ],
             [
              0.7777777777777778,
              "#fb9f3a"
             ],
             [
              0.8888888888888888,
              "#fdca26"
             ],
             [
              1,
              "#f0f921"
             ]
            ],
            "type": "contour"
           }
          ],
          "contourcarpet": [
           {
            "colorbar": {
             "outlinewidth": 0,
             "ticks": ""
            },
            "type": "contourcarpet"
           }
          ],
          "heatmap": [
           {
            "colorbar": {
             "outlinewidth": 0,
             "ticks": ""
            },
            "colorscale": [
             [
              0,
              "#0d0887"
             ],
             [
              0.1111111111111111,
              "#46039f"
             ],
             [
              0.2222222222222222,
              "#7201a8"
             ],
             [
              0.3333333333333333,
              "#9c179e"
             ],
             [
              0.4444444444444444,
              "#bd3786"
             ],
             [
              0.5555555555555556,
              "#d8576b"
             ],
             [
              0.6666666666666666,
              "#ed7953"
             ],
             [
              0.7777777777777778,
              "#fb9f3a"
             ],
             [
              0.8888888888888888,
              "#fdca26"
             ],
             [
              1,
              "#f0f921"
             ]
            ],
            "type": "heatmap"
           }
          ],
          "heatmapgl": [
           {
            "colorbar": {
             "outlinewidth": 0,
             "ticks": ""
            },
            "colorscale": [
             [
              0,
              "#0d0887"
             ],
             [
              0.1111111111111111,
              "#46039f"
             ],
             [
              0.2222222222222222,
              "#7201a8"
             ],
             [
              0.3333333333333333,
              "#9c179e"
             ],
             [
              0.4444444444444444,
              "#bd3786"
             ],
             [
              0.5555555555555556,
              "#d8576b"
             ],
             [
              0.6666666666666666,
              "#ed7953"
             ],
             [
              0.7777777777777778,
              "#fb9f3a"
             ],
             [
              0.8888888888888888,
              "#fdca26"
             ],
             [
              1,
              "#f0f921"
             ]
            ],
            "type": "heatmapgl"
           }
          ],
          "histogram": [
           {
            "marker": {
             "pattern": {
              "fillmode": "overlay",
              "size": 10,
              "solidity": 0.2
             }
            },
            "type": "histogram"
           }
          ],
          "histogram2d": [
           {
            "colorbar": {
             "outlinewidth": 0,
             "ticks": ""
            },
            "colorscale": [
             [
              0,
              "#0d0887"
             ],
             [
              0.1111111111111111,
              "#46039f"
             ],
             [
              0.2222222222222222,
              "#7201a8"
             ],
             [
              0.3333333333333333,
              "#9c179e"
             ],
             [
              0.4444444444444444,
              "#bd3786"
             ],
             [
              0.5555555555555556,
              "#d8576b"
             ],
             [
              0.6666666666666666,
              "#ed7953"
             ],
             [
              0.7777777777777778,
              "#fb9f3a"
             ],
             [
              0.8888888888888888,
              "#fdca26"
             ],
             [
              1,
              "#f0f921"
             ]
            ],
            "type": "histogram2d"
           }
          ],
          "histogram2dcontour": [
           {
            "colorbar": {
             "outlinewidth": 0,
             "ticks": ""
            },
            "colorscale": [
             [
              0,
              "#0d0887"
             ],
             [
              0.1111111111111111,
              "#46039f"
             ],
             [
              0.2222222222222222,
              "#7201a8"
             ],
             [
              0.3333333333333333,
              "#9c179e"
             ],
             [
              0.4444444444444444,
              "#bd3786"
             ],
             [
              0.5555555555555556,
              "#d8576b"
             ],
             [
              0.6666666666666666,
              "#ed7953"
             ],
             [
              0.7777777777777778,
              "#fb9f3a"
             ],
             [
              0.8888888888888888,
              "#fdca26"
             ],
             [
              1,
              "#f0f921"
             ]
            ],
            "type": "histogram2dcontour"
           }
          ],
          "mesh3d": [
           {
            "colorbar": {
             "outlinewidth": 0,
             "ticks": ""
            },
            "type": "mesh3d"
           }
          ],
          "parcoords": [
           {
            "line": {
             "colorbar": {
              "outlinewidth": 0,
              "ticks": ""
             }
            },
            "type": "parcoords"
           }
          ],
          "pie": [
           {
            "automargin": true,
            "type": "pie"
           }
          ],
          "scatter": [
           {
            "fillpattern": {
             "fillmode": "overlay",
             "size": 10,
             "solidity": 0.2
            },
            "type": "scatter"
           }
          ],
          "scatter3d": [
           {
            "line": {
             "colorbar": {
              "outlinewidth": 0,
              "ticks": ""
             }
            },
            "marker": {
             "colorbar": {
              "outlinewidth": 0,
              "ticks": ""
             }
            },
            "type": "scatter3d"
           }
          ],
          "scattercarpet": [
           {
            "marker": {
             "colorbar": {
              "outlinewidth": 0,
              "ticks": ""
             }
            },
            "type": "scattercarpet"
           }
          ],
          "scattergeo": [
           {
            "marker": {
             "colorbar": {
              "outlinewidth": 0,
              "ticks": ""
             }
            },
            "type": "scattergeo"
           }
          ],
          "scattergl": [
           {
            "marker": {
             "colorbar": {
              "outlinewidth": 0,
              "ticks": ""
             }
            },
            "type": "scattergl"
           }
          ],
          "scattermapbox": [
           {
            "marker": {
             "colorbar": {
              "outlinewidth": 0,
              "ticks": ""
             }
            },
            "type": "scattermapbox"
           }
          ],
          "scatterpolar": [
           {
            "marker": {
             "colorbar": {
              "outlinewidth": 0,
              "ticks": ""
             }
            },
            "type": "scatterpolar"
           }
          ],
          "scatterpolargl": [
           {
            "marker": {
             "colorbar": {
              "outlinewidth": 0,
              "ticks": ""
             }
            },
            "type": "scatterpolargl"
           }
          ],
          "scatterternary": [
           {
            "marker": {
             "colorbar": {
              "outlinewidth": 0,
              "ticks": ""
             }
            },
            "type": "scatterternary"
           }
          ],
          "surface": [
           {
            "colorbar": {
             "outlinewidth": 0,
             "ticks": ""
            },
            "colorscale": [
             [
              0,
              "#0d0887"
             ],
             [
              0.1111111111111111,
              "#46039f"
             ],
             [
              0.2222222222222222,
              "#7201a8"
             ],
             [
              0.3333333333333333,
              "#9c179e"
             ],
             [
              0.4444444444444444,
              "#bd3786"
             ],
             [
              0.5555555555555556,
              "#d8576b"
             ],
             [
              0.6666666666666666,
              "#ed7953"
             ],
             [
              0.7777777777777778,
              "#fb9f3a"
             ],
             [
              0.8888888888888888,
              "#fdca26"
             ],
             [
              1,
              "#f0f921"
             ]
            ],
            "type": "surface"
           }
          ],
          "table": [
           {
            "cells": {
             "fill": {
              "color": "#EBF0F8"
             },
             "line": {
              "color": "white"
             }
            },
            "header": {
             "fill": {
              "color": "#C8D4E3"
             },
             "line": {
              "color": "white"
             }
            },
            "type": "table"
           }
          ]
         },
         "layout": {
          "annotationdefaults": {
           "arrowcolor": "#2a3f5f",
           "arrowhead": 0,
           "arrowwidth": 1
          },
          "autotypenumbers": "strict",
          "coloraxis": {
           "colorbar": {
            "outlinewidth": 0,
            "ticks": ""
           }
          },
          "colorscale": {
           "diverging": [
            [
             0,
             "#8e0152"
            ],
            [
             0.1,
             "#c51b7d"
            ],
            [
             0.2,
             "#de77ae"
            ],
            [
             0.3,
             "#f1b6da"
            ],
            [
             0.4,
             "#fde0ef"
            ],
            [
             0.5,
             "#f7f7f7"
            ],
            [
             0.6,
             "#e6f5d0"
            ],
            [
             0.7,
             "#b8e186"
            ],
            [
             0.8,
             "#7fbc41"
            ],
            [
             0.9,
             "#4d9221"
            ],
            [
             1,
             "#276419"
            ]
           ],
           "sequential": [
            [
             0,
             "#0d0887"
            ],
            [
             0.1111111111111111,
             "#46039f"
            ],
            [
             0.2222222222222222,
             "#7201a8"
            ],
            [
             0.3333333333333333,
             "#9c179e"
            ],
            [
             0.4444444444444444,
             "#bd3786"
            ],
            [
             0.5555555555555556,
             "#d8576b"
            ],
            [
             0.6666666666666666,
             "#ed7953"
            ],
            [
             0.7777777777777778,
             "#fb9f3a"
            ],
            [
             0.8888888888888888,
             "#fdca26"
            ],
            [
             1,
             "#f0f921"
            ]
           ],
           "sequentialminus": [
            [
             0,
             "#0d0887"
            ],
            [
             0.1111111111111111,
             "#46039f"
            ],
            [
             0.2222222222222222,
             "#7201a8"
            ],
            [
             0.3333333333333333,
             "#9c179e"
            ],
            [
             0.4444444444444444,
             "#bd3786"
            ],
            [
             0.5555555555555556,
             "#d8576b"
            ],
            [
             0.6666666666666666,
             "#ed7953"
            ],
            [
             0.7777777777777778,
             "#fb9f3a"
            ],
            [
             0.8888888888888888,
             "#fdca26"
            ],
            [
             1,
             "#f0f921"
            ]
           ]
          },
          "colorway": [
           "#636efa",
           "#EF553B",
           "#00cc96",
           "#ab63fa",
           "#FFA15A",
           "#19d3f3",
           "#FF6692",
           "#B6E880",
           "#FF97FF",
           "#FECB52"
          ],
          "font": {
           "color": "#2a3f5f"
          },
          "geo": {
           "bgcolor": "white",
           "lakecolor": "white",
           "landcolor": "#E5ECF6",
           "showlakes": true,
           "showland": true,
           "subunitcolor": "white"
          },
          "hoverlabel": {
           "align": "left"
          },
          "hovermode": "closest",
          "mapbox": {
           "style": "light"
          },
          "paper_bgcolor": "white",
          "plot_bgcolor": "#E5ECF6",
          "polar": {
           "angularaxis": {
            "gridcolor": "white",
            "linecolor": "white",
            "ticks": ""
           },
           "bgcolor": "#E5ECF6",
           "radialaxis": {
            "gridcolor": "white",
            "linecolor": "white",
            "ticks": ""
           }
          },
          "scene": {
           "xaxis": {
            "backgroundcolor": "#E5ECF6",
            "gridcolor": "white",
            "gridwidth": 2,
            "linecolor": "white",
            "showbackground": true,
            "ticks": "",
            "zerolinecolor": "white"
           },
           "yaxis": {
            "backgroundcolor": "#E5ECF6",
            "gridcolor": "white",
            "gridwidth": 2,
            "linecolor": "white",
            "showbackground": true,
            "ticks": "",
            "zerolinecolor": "white"
           },
           "zaxis": {
            "backgroundcolor": "#E5ECF6",
            "gridcolor": "white",
            "gridwidth": 2,
            "linecolor": "white",
            "showbackground": true,
            "ticks": "",
            "zerolinecolor": "white"
           }
          },
          "shapedefaults": {
           "line": {
            "color": "#2a3f5f"
           }
          },
          "ternary": {
           "aaxis": {
            "gridcolor": "white",
            "linecolor": "white",
            "ticks": ""
           },
           "baxis": {
            "gridcolor": "white",
            "linecolor": "white",
            "ticks": ""
           },
           "bgcolor": "#E5ECF6",
           "caxis": {
            "gridcolor": "white",
            "linecolor": "white",
            "ticks": ""
           }
          },
          "title": {
           "x": 0.05
          },
          "xaxis": {
           "automargin": true,
           "gridcolor": "white",
           "linecolor": "white",
           "ticks": "",
           "title": {
            "standoff": 15
           },
           "zerolinecolor": "white",
           "zerolinewidth": 2
          },
          "yaxis": {
           "automargin": true,
           "gridcolor": "white",
           "linecolor": "white",
           "ticks": "",
           "title": {
            "standoff": 15
           },
           "zerolinecolor": "white",
           "zerolinewidth": 2
          }
         }
        },
        "title": {
         "text": "Feet Above Ground"
        }
       }
      }
     },
     "metadata": {},
     "output_type": "display_data"
    }
   ],
   "source": [
    "heights = df[(df[DataSchema.effect_indicated_damage] == True) &\n",
    "             (df[\"Any Cost?\"] == True)][DataSchema.feet_above_ground].to_numpy()\n",
    "\n",
    "fig = go.Figure(data=go.Histogram(x=heights,histnorm=\"probability\", nbinsx=50))\n",
    "\n",
    "fig.update_layout(title=\"Feet Above Ground\")\n",
    "fig"
   ]
  },
  {
   "cell_type": "code",
   "execution_count": 30,
   "metadata": {},
   "outputs": [
    {
     "data": {
      "application/vnd.plotly.v1+json": {
       "config": {
        "plotlyServerURL": "https://plot.ly"
       },
       "data": [
        {
         "labels": [
          "2",
          "3",
          "4",
          "1"
         ],
         "type": "pie",
         "values": [
          592,
          32,
          15,
          166
         ]
        }
       ],
       "layout": {
        "template": {
         "data": {
          "bar": [
           {
            "error_x": {
             "color": "#2a3f5f"
            },
            "error_y": {
             "color": "#2a3f5f"
            },
            "marker": {
             "line": {
              "color": "#E5ECF6",
              "width": 0.5
             },
             "pattern": {
              "fillmode": "overlay",
              "size": 10,
              "solidity": 0.2
             }
            },
            "type": "bar"
           }
          ],
          "barpolar": [
           {
            "marker": {
             "line": {
              "color": "#E5ECF6",
              "width": 0.5
             },
             "pattern": {
              "fillmode": "overlay",
              "size": 10,
              "solidity": 0.2
             }
            },
            "type": "barpolar"
           }
          ],
          "carpet": [
           {
            "aaxis": {
             "endlinecolor": "#2a3f5f",
             "gridcolor": "white",
             "linecolor": "white",
             "minorgridcolor": "white",
             "startlinecolor": "#2a3f5f"
            },
            "baxis": {
             "endlinecolor": "#2a3f5f",
             "gridcolor": "white",
             "linecolor": "white",
             "minorgridcolor": "white",
             "startlinecolor": "#2a3f5f"
            },
            "type": "carpet"
           }
          ],
          "choropleth": [
           {
            "colorbar": {
             "outlinewidth": 0,
             "ticks": ""
            },
            "type": "choropleth"
           }
          ],
          "contour": [
           {
            "colorbar": {
             "outlinewidth": 0,
             "ticks": ""
            },
            "colorscale": [
             [
              0,
              "#0d0887"
             ],
             [
              0.1111111111111111,
              "#46039f"
             ],
             [
              0.2222222222222222,
              "#7201a8"
             ],
             [
              0.3333333333333333,
              "#9c179e"
             ],
             [
              0.4444444444444444,
              "#bd3786"
             ],
             [
              0.5555555555555556,
              "#d8576b"
             ],
             [
              0.6666666666666666,
              "#ed7953"
             ],
             [
              0.7777777777777778,
              "#fb9f3a"
             ],
             [
              0.8888888888888888,
              "#fdca26"
             ],
             [
              1,
              "#f0f921"
             ]
            ],
            "type": "contour"
           }
          ],
          "contourcarpet": [
           {
            "colorbar": {
             "outlinewidth": 0,
             "ticks": ""
            },
            "type": "contourcarpet"
           }
          ],
          "heatmap": [
           {
            "colorbar": {
             "outlinewidth": 0,
             "ticks": ""
            },
            "colorscale": [
             [
              0,
              "#0d0887"
             ],
             [
              0.1111111111111111,
              "#46039f"
             ],
             [
              0.2222222222222222,
              "#7201a8"
             ],
             [
              0.3333333333333333,
              "#9c179e"
             ],
             [
              0.4444444444444444,
              "#bd3786"
             ],
             [
              0.5555555555555556,
              "#d8576b"
             ],
             [
              0.6666666666666666,
              "#ed7953"
             ],
             [
              0.7777777777777778,
              "#fb9f3a"
             ],
             [
              0.8888888888888888,
              "#fdca26"
             ],
             [
              1,
              "#f0f921"
             ]
            ],
            "type": "heatmap"
           }
          ],
          "heatmapgl": [
           {
            "colorbar": {
             "outlinewidth": 0,
             "ticks": ""
            },
            "colorscale": [
             [
              0,
              "#0d0887"
             ],
             [
              0.1111111111111111,
              "#46039f"
             ],
             [
              0.2222222222222222,
              "#7201a8"
             ],
             [
              0.3333333333333333,
              "#9c179e"
             ],
             [
              0.4444444444444444,
              "#bd3786"
             ],
             [
              0.5555555555555556,
              "#d8576b"
             ],
             [
              0.6666666666666666,
              "#ed7953"
             ],
             [
              0.7777777777777778,
              "#fb9f3a"
             ],
             [
              0.8888888888888888,
              "#fdca26"
             ],
             [
              1,
              "#f0f921"
             ]
            ],
            "type": "heatmapgl"
           }
          ],
          "histogram": [
           {
            "marker": {
             "pattern": {
              "fillmode": "overlay",
              "size": 10,
              "solidity": 0.2
             }
            },
            "type": "histogram"
           }
          ],
          "histogram2d": [
           {
            "colorbar": {
             "outlinewidth": 0,
             "ticks": ""
            },
            "colorscale": [
             [
              0,
              "#0d0887"
             ],
             [
              0.1111111111111111,
              "#46039f"
             ],
             [
              0.2222222222222222,
              "#7201a8"
             ],
             [
              0.3333333333333333,
              "#9c179e"
             ],
             [
              0.4444444444444444,
              "#bd3786"
             ],
             [
              0.5555555555555556,
              "#d8576b"
             ],
             [
              0.6666666666666666,
              "#ed7953"
             ],
             [
              0.7777777777777778,
              "#fb9f3a"
             ],
             [
              0.8888888888888888,
              "#fdca26"
             ],
             [
              1,
              "#f0f921"
             ]
            ],
            "type": "histogram2d"
           }
          ],
          "histogram2dcontour": [
           {
            "colorbar": {
             "outlinewidth": 0,
             "ticks": ""
            },
            "colorscale": [
             [
              0,
              "#0d0887"
             ],
             [
              0.1111111111111111,
              "#46039f"
             ],
             [
              0.2222222222222222,
              "#7201a8"
             ],
             [
              0.3333333333333333,
              "#9c179e"
             ],
             [
              0.4444444444444444,
              "#bd3786"
             ],
             [
              0.5555555555555556,
              "#d8576b"
             ],
             [
              0.6666666666666666,
              "#ed7953"
             ],
             [
              0.7777777777777778,
              "#fb9f3a"
             ],
             [
              0.8888888888888888,
              "#fdca26"
             ],
             [
              1,
              "#f0f921"
             ]
            ],
            "type": "histogram2dcontour"
           }
          ],
          "mesh3d": [
           {
            "colorbar": {
             "outlinewidth": 0,
             "ticks": ""
            },
            "type": "mesh3d"
           }
          ],
          "parcoords": [
           {
            "line": {
             "colorbar": {
              "outlinewidth": 0,
              "ticks": ""
             }
            },
            "type": "parcoords"
           }
          ],
          "pie": [
           {
            "automargin": true,
            "type": "pie"
           }
          ],
          "scatter": [
           {
            "fillpattern": {
             "fillmode": "overlay",
             "size": 10,
             "solidity": 0.2
            },
            "type": "scatter"
           }
          ],
          "scatter3d": [
           {
            "line": {
             "colorbar": {
              "outlinewidth": 0,
              "ticks": ""
             }
            },
            "marker": {
             "colorbar": {
              "outlinewidth": 0,
              "ticks": ""
             }
            },
            "type": "scatter3d"
           }
          ],
          "scattercarpet": [
           {
            "marker": {
             "colorbar": {
              "outlinewidth": 0,
              "ticks": ""
             }
            },
            "type": "scattercarpet"
           }
          ],
          "scattergeo": [
           {
            "marker": {
             "colorbar": {
              "outlinewidth": 0,
              "ticks": ""
             }
            },
            "type": "scattergeo"
           }
          ],
          "scattergl": [
           {
            "marker": {
             "colorbar": {
              "outlinewidth": 0,
              "ticks": ""
             }
            },
            "type": "scattergl"
           }
          ],
          "scattermapbox": [
           {
            "marker": {
             "colorbar": {
              "outlinewidth": 0,
              "ticks": ""
             }
            },
            "type": "scattermapbox"
           }
          ],
          "scatterpolar": [
           {
            "marker": {
             "colorbar": {
              "outlinewidth": 0,
              "ticks": ""
             }
            },
            "type": "scatterpolar"
           }
          ],
          "scatterpolargl": [
           {
            "marker": {
             "colorbar": {
              "outlinewidth": 0,
              "ticks": ""
             }
            },
            "type": "scatterpolargl"
           }
          ],
          "scatterternary": [
           {
            "marker": {
             "colorbar": {
              "outlinewidth": 0,
              "ticks": ""
             }
            },
            "type": "scatterternary"
           }
          ],
          "surface": [
           {
            "colorbar": {
             "outlinewidth": 0,
             "ticks": ""
            },
            "colorscale": [
             [
              0,
              "#0d0887"
             ],
             [
              0.1111111111111111,
              "#46039f"
             ],
             [
              0.2222222222222222,
              "#7201a8"
             ],
             [
              0.3333333333333333,
              "#9c179e"
             ],
             [
              0.4444444444444444,
              "#bd3786"
             ],
             [
              0.5555555555555556,
              "#d8576b"
             ],
             [
              0.6666666666666666,
              "#ed7953"
             ],
             [
              0.7777777777777778,
              "#fb9f3a"
             ],
             [
              0.8888888888888888,
              "#fdca26"
             ],
             [
              1,
              "#f0f921"
             ]
            ],
            "type": "surface"
           }
          ],
          "table": [
           {
            "cells": {
             "fill": {
              "color": "#EBF0F8"
             },
             "line": {
              "color": "white"
             }
            },
            "header": {
             "fill": {
              "color": "#C8D4E3"
             },
             "line": {
              "color": "white"
             }
            },
            "type": "table"
           }
          ]
         },
         "layout": {
          "annotationdefaults": {
           "arrowcolor": "#2a3f5f",
           "arrowhead": 0,
           "arrowwidth": 1
          },
          "autotypenumbers": "strict",
          "coloraxis": {
           "colorbar": {
            "outlinewidth": 0,
            "ticks": ""
           }
          },
          "colorscale": {
           "diverging": [
            [
             0,
             "#8e0152"
            ],
            [
             0.1,
             "#c51b7d"
            ],
            [
             0.2,
             "#de77ae"
            ],
            [
             0.3,
             "#f1b6da"
            ],
            [
             0.4,
             "#fde0ef"
            ],
            [
             0.5,
             "#f7f7f7"
            ],
            [
             0.6,
             "#e6f5d0"
            ],
            [
             0.7,
             "#b8e186"
            ],
            [
             0.8,
             "#7fbc41"
            ],
            [
             0.9,
             "#4d9221"
            ],
            [
             1,
             "#276419"
            ]
           ],
           "sequential": [
            [
             0,
             "#0d0887"
            ],
            [
             0.1111111111111111,
             "#46039f"
            ],
            [
             0.2222222222222222,
             "#7201a8"
            ],
            [
             0.3333333333333333,
             "#9c179e"
            ],
            [
             0.4444444444444444,
             "#bd3786"
            ],
            [
             0.5555555555555556,
             "#d8576b"
            ],
            [
             0.6666666666666666,
             "#ed7953"
            ],
            [
             0.7777777777777778,
             "#fb9f3a"
            ],
            [
             0.8888888888888888,
             "#fdca26"
            ],
            [
             1,
             "#f0f921"
            ]
           ],
           "sequentialminus": [
            [
             0,
             "#0d0887"
            ],
            [
             0.1111111111111111,
             "#46039f"
            ],
            [
             0.2222222222222222,
             "#7201a8"
            ],
            [
             0.3333333333333333,
             "#9c179e"
            ],
            [
             0.4444444444444444,
             "#bd3786"
            ],
            [
             0.5555555555555556,
             "#d8576b"
            ],
            [
             0.6666666666666666,
             "#ed7953"
            ],
            [
             0.7777777777777778,
             "#fb9f3a"
            ],
            [
             0.8888888888888888,
             "#fdca26"
            ],
            [
             1,
             "#f0f921"
            ]
           ]
          },
          "colorway": [
           "#636efa",
           "#EF553B",
           "#00cc96",
           "#ab63fa",
           "#FFA15A",
           "#19d3f3",
           "#FF6692",
           "#B6E880",
           "#FF97FF",
           "#FECB52"
          ],
          "font": {
           "color": "#2a3f5f"
          },
          "geo": {
           "bgcolor": "white",
           "lakecolor": "white",
           "landcolor": "#E5ECF6",
           "showlakes": true,
           "showland": true,
           "subunitcolor": "white"
          },
          "hoverlabel": {
           "align": "left"
          },
          "hovermode": "closest",
          "mapbox": {
           "style": "light"
          },
          "paper_bgcolor": "white",
          "plot_bgcolor": "#E5ECF6",
          "polar": {
           "angularaxis": {
            "gridcolor": "white",
            "linecolor": "white",
            "ticks": ""
           },
           "bgcolor": "#E5ECF6",
           "radialaxis": {
            "gridcolor": "white",
            "linecolor": "white",
            "ticks": ""
           }
          },
          "scene": {
           "xaxis": {
            "backgroundcolor": "#E5ECF6",
            "gridcolor": "white",
            "gridwidth": 2,
            "linecolor": "white",
            "showbackground": true,
            "ticks": "",
            "zerolinecolor": "white"
           },
           "yaxis": {
            "backgroundcolor": "#E5ECF6",
            "gridcolor": "white",
            "gridwidth": 2,
            "linecolor": "white",
            "showbackground": true,
            "ticks": "",
            "zerolinecolor": "white"
           },
           "zaxis": {
            "backgroundcolor": "#E5ECF6",
            "gridcolor": "white",
            "gridwidth": 2,
            "linecolor": "white",
            "showbackground": true,
            "ticks": "",
            "zerolinecolor": "white"
           }
          },
          "shapedefaults": {
           "line": {
            "color": "#2a3f5f"
           }
          },
          "ternary": {
           "aaxis": {
            "gridcolor": "white",
            "linecolor": "white",
            "ticks": ""
           },
           "baxis": {
            "gridcolor": "white",
            "linecolor": "white",
            "ticks": ""
           },
           "bgcolor": "#E5ECF6",
           "caxis": {
            "gridcolor": "white",
            "linecolor": "white",
            "ticks": ""
           }
          },
          "title": {
           "x": 0.05
          },
          "xaxis": {
           "automargin": true,
           "gridcolor": "white",
           "linecolor": "white",
           "ticks": "",
           "title": {
            "standoff": 15
           },
           "zerolinecolor": "white",
           "zerolinewidth": 2
          },
          "yaxis": {
           "automargin": true,
           "gridcolor": "white",
           "linecolor": "white",
           "ticks": "",
           "title": {
            "standoff": 15
           },
           "zerolinecolor": "white",
           "zerolinewidth": 2
          }
         }
        },
        "title": {
         "text": "Number of engines"
        }
       }
      }
     },
     "metadata": {},
     "output_type": "display_data"
    }
   ],
   "source": [
    "k = df[(df[DataSchema.effect_indicated_damage]) & (\n",
    "    df[\"Any Cost?\"] == True)][DataSchema.aircraft_nbr_engines]\n",
    "k = Counter(k)\n",
    "\n",
    "fig = go.Figure(data=go.Pie(values=tuple(k.values()),\n",
    "                            labels=tuple(k.keys())\n",
    "                            ))\n",
    "\n",
    "fig.update_layout(\n",
    "    title=\"Number of engines\"\n",
    ")\n",
    "fig"
   ]
  },
  {
   "cell_type": "code",
   "execution_count": 31,
   "metadata": {},
   "outputs": [
    {
     "data": {
      "application/vnd.plotly.v1+json": {
       "config": {
        "plotlyServerURL": "https://plot.ly"
       },
       "data": [
        {
         "hovertemplate": "Feet above ground=%{x}<br>Wildlife: Number Struck Actual=%{y}<extra></extra>",
         "legendgroup": "",
         "marker": {
          "color": "#636efa",
          "symbol": "circle"
         },
         "mode": "markers",
         "name": "",
         "orientation": "v",
         "showlegend": false,
         "type": "scatter",
         "x": [
          1500,
          150,
          100,
          800,
          0,
          0,
          800,
          0,
          9000,
          100,
          0,
          0,
          700,
          150,
          0,
          1000,
          10,
          0,
          1600,
          200,
          800,
          400,
          7000,
          0,
          100,
          0,
          10800,
          15,
          30,
          14000,
          10,
          5000,
          1500,
          0,
          720,
          1000,
          0,
          400,
          0,
          0,
          0,
          0,
          0,
          0,
          0,
          20,
          25,
          4000,
          50,
          2900,
          0,
          0,
          0,
          200,
          4800,
          75,
          10,
          15,
          3000,
          0,
          200,
          5500,
          500,
          1000,
          100,
          1500,
          0,
          3200,
          0,
          500,
          50,
          0,
          0,
          350,
          2000,
          1800,
          10,
          700,
          0,
          10,
          100,
          10,
          0,
          500,
          0,
          5000,
          2,
          0,
          3000,
          200,
          800,
          5,
          3000,
          50,
          200,
          5200,
          0,
          3500,
          0,
          5,
          10,
          5,
          0,
          50,
          5,
          1000,
          5,
          3000,
          50,
          1000,
          2900,
          1500,
          100,
          10,
          100,
          1800,
          4000,
          0,
          0,
          0,
          2000,
          15,
          600,
          1500,
          2400,
          0,
          0,
          600,
          3,
          10,
          4000,
          2000,
          0,
          10,
          5500,
          200,
          4260,
          500,
          800,
          2000,
          1200,
          2000,
          20,
          0,
          6000,
          200,
          900,
          20,
          0,
          0,
          0,
          5,
          6800,
          5,
          10,
          0,
          5,
          500,
          800,
          4000,
          6600,
          800,
          0,
          5,
          1000,
          2000,
          1200,
          2000,
          1200,
          0,
          0,
          300,
          2500,
          0,
          300,
          3800,
          400,
          0,
          1900,
          150,
          2500,
          10,
          10,
          200,
          5,
          14000,
          0,
          75,
          50,
          0,
          10,
          2300,
          0,
          500,
          0,
          200,
          50,
          0,
          10,
          10,
          100,
          0,
          0,
          50,
          35,
          20,
          10,
          0,
          30,
          200,
          1000,
          400,
          100,
          3000,
          200,
          0,
          0,
          3000,
          1500,
          400,
          2500,
          2400,
          5000,
          700,
          5000,
          500,
          100,
          2000,
          1000,
          0,
          50,
          1400,
          0,
          0,
          1500,
          9,
          50,
          50,
          0,
          0,
          0,
          0,
          0,
          0,
          750,
          10000,
          3000,
          0,
          100,
          50,
          0,
          500,
          200,
          1800,
          300,
          1800,
          2300,
          50,
          0,
          4500,
          3000,
          0,
          150,
          100,
          5500,
          10000,
          0,
          0,
          1000,
          500,
          0,
          0,
          0,
          0,
          0,
          100,
          0,
          2000,
          0,
          2800,
          1500,
          8000,
          2000,
          800,
          180,
          0,
          5000,
          0,
          0,
          0,
          1500,
          0,
          100,
          2000,
          5,
          100,
          3000,
          0,
          1800,
          0,
          100,
          2000,
          0,
          10,
          1000,
          0,
          0,
          0,
          0,
          0,
          200,
          6,
          500,
          800,
          300,
          1500,
          4000,
          12000,
          75,
          0,
          1000,
          1000,
          0,
          7000,
          15,
          300,
          150,
          400,
          150,
          400,
          350,
          300,
          0,
          2,
          50,
          0,
          0,
          1500,
          2000,
          1800,
          0,
          0,
          5,
          25,
          0,
          300,
          0,
          75,
          0,
          400,
          800,
          0,
          0,
          1500,
          1000,
          100,
          0,
          4,
          0,
          1000,
          600,
          500,
          0,
          1500,
          50,
          0,
          1200,
          0,
          100,
          5000,
          800,
          0,
          0,
          100,
          0,
          0,
          1000,
          0,
          20,
          0,
          0,
          0,
          600,
          0,
          400,
          100,
          0,
          750,
          0,
          500,
          50,
          0,
          300,
          10000,
          0,
          10,
          0,
          3000,
          1000,
          30,
          30,
          200,
          2500,
          150,
          0,
          9500,
          0,
          4300,
          0,
          0,
          1650,
          0,
          1000,
          35,
          200,
          0,
          2000,
          0,
          600,
          50,
          500,
          0,
          200,
          450,
          500,
          2000,
          3500,
          400,
          0,
          10,
          300,
          0,
          700,
          200,
          1800,
          300,
          0,
          50,
          0,
          30,
          0,
          300,
          0,
          75,
          40,
          2500,
          0,
          0,
          8500,
          4500,
          0,
          6100,
          1000,
          4000,
          0,
          20,
          60,
          2300,
          0,
          1200,
          400,
          20,
          0,
          1500,
          350,
          100,
          820,
          0,
          10,
          3000,
          600,
          50,
          900,
          800,
          1750,
          5100,
          100,
          3000,
          1500,
          560,
          0,
          0,
          2000,
          2500,
          2200,
          1500,
          800,
          0,
          20,
          800,
          0,
          1500,
          3,
          0,
          5,
          0,
          1300,
          0,
          20,
          0,
          0,
          10,
          2130,
          0,
          10,
          4000,
          1800,
          50,
          2200,
          0,
          7100,
          500,
          250,
          30,
          600,
          350,
          520,
          0,
          0,
          1000,
          1200,
          0,
          1000,
          75,
          2000,
          0,
          750,
          14000,
          0,
          400,
          0,
          4100,
          1800,
          800,
          10,
          190,
          1500,
          0,
          0,
          0,
          5,
          13400,
          50,
          0,
          0,
          1500,
          0,
          0,
          150,
          2300,
          400,
          1000,
          0,
          500,
          0,
          250,
          200,
          2400,
          0,
          20,
          200,
          500,
          0,
          200,
          0,
          400,
          200,
          200,
          2000,
          0,
          500,
          1400,
          30,
          75,
          5800,
          100,
          0,
          1300,
          50,
          1000,
          2400,
          900,
          7500,
          400,
          200,
          500,
          1200,
          0,
          500,
          400,
          100,
          400,
          0,
          3000,
          0,
          2100,
          0,
          0,
          0,
          0,
          0,
          100,
          100,
          300,
          500,
          1300,
          1500,
          300,
          2000,
          4000,
          40,
          1300,
          0,
          10,
          7000,
          3500,
          350,
          8000,
          10,
          1500,
          7500,
          1000,
          0,
          0,
          10000,
          800,
          2500,
          2200,
          1800,
          0,
          525,
          6000,
          700,
          200,
          800,
          2500,
          5000,
          0,
          0,
          0,
          400,
          2400,
          200,
          2500,
          0,
          14000,
          1000,
          4,
          1000,
          0,
          0,
          2000,
          0,
          3800,
          0,
          20,
          150,
          600,
          0,
          0,
          100,
          1200,
          1500,
          300,
          0,
          2500,
          0,
          1100,
          2600,
          50,
          5,
          3500,
          10,
          10,
          0,
          50,
          300,
          0,
          8000,
          7000,
          1500,
          500,
          800,
          8000,
          700,
          7000,
          200,
          800,
          1000,
          0,
          0,
          2800,
          5,
          10,
          800,
          65,
          200,
          75,
          1200,
          50,
          300,
          2800,
          10,
          25,
          2700,
          500,
          3000,
          400,
          0,
          0,
          4000,
          0,
          0,
          4000,
          550,
          0,
          4500,
          2000,
          500,
          3000,
          10,
          2000,
          0,
          300,
          75,
          0,
          0,
          1500,
          0,
          0,
          5,
          11000,
          5,
          0,
          500,
          40,
          50,
          2500,
          3000,
          7,
          400,
          10,
          800,
          1000,
          100,
          2500,
          0,
          400,
          5000,
          100,
          1800,
          650,
          100,
          1000,
          400,
          800,
          6,
          1000,
          2500,
          3400,
          200,
          4000,
          10,
          100,
          150,
          0,
          15000,
          4,
          0,
          300,
          200,
          10,
          0,
          200,
          2000,
          0,
          0,
          9700,
          0,
          0,
          30,
          0,
          0,
          2400,
          1000,
          12000,
          300,
          100,
          1500,
          1100,
          900,
          6000,
          300,
          1000,
          800,
          40,
          1000,
          0,
          4000,
          1300,
          500,
          1000,
          2000,
          7500,
          0
         ],
         "xaxis": "x",
         "y": [
          859,
          227,
          320,
          5,
          3,
          7,
          4,
          5,
          8,
          2,
          3,
          8,
          8,
          5,
          2,
          9,
          8,
          4,
          6,
          5,
          6,
          8,
          9,
          2,
          4,
          4,
          2,
          5,
          6,
          8,
          6,
          8,
          3,
          5,
          3,
          4,
          10,
          10,
          8,
          2,
          10,
          5,
          6,
          9,
          10,
          5,
          4,
          9,
          10,
          7,
          10,
          5,
          10,
          9,
          3,
          4,
          10,
          4,
          3,
          4,
          9,
          9,
          4,
          5,
          10,
          5,
          3,
          2,
          9,
          5,
          3,
          9,
          9,
          3,
          5,
          10,
          9,
          10,
          9,
          2,
          2,
          2,
          6,
          2,
          4,
          9,
          5,
          2,
          2,
          3,
          4,
          10,
          8,
          9,
          7,
          2,
          3,
          8,
          4,
          6,
          7,
          2,
          8,
          8,
          7,
          8,
          10,
          7,
          9,
          5,
          9,
          10,
          7,
          10,
          4,
          8,
          2,
          2,
          8,
          9,
          10,
          2,
          5,
          2,
          8,
          9,
          9,
          10,
          3,
          7,
          8,
          7,
          7,
          7,
          8,
          2,
          5,
          5,
          6,
          4,
          7,
          4,
          3,
          6,
          9,
          8,
          5,
          2,
          9,
          6,
          2,
          10,
          10,
          5,
          4,
          3,
          2,
          7,
          8,
          6,
          10,
          7,
          6,
          8,
          6,
          10,
          5,
          7,
          7,
          5,
          2,
          3,
          4,
          10,
          10,
          2,
          2,
          4,
          10,
          10,
          51,
          85,
          82,
          22,
          96,
          29,
          96,
          96,
          20,
          15,
          96,
          60,
          66,
          33,
          19,
          15,
          81,
          40,
          63,
          32,
          74,
          14,
          46,
          40,
          96,
          88,
          68,
          80,
          97,
          1,
          1,
          1,
          1,
          1,
          1,
          1,
          1,
          1,
          1,
          1,
          1,
          1,
          1,
          1,
          1,
          1,
          1,
          1,
          1,
          1,
          1,
          1,
          1,
          1,
          1,
          1,
          1,
          1,
          1,
          1,
          1,
          1,
          1,
          1,
          1,
          1,
          1,
          1,
          1,
          1,
          1,
          1,
          1,
          1,
          1,
          1,
          1,
          1,
          1,
          1,
          1,
          1,
          1,
          1,
          1,
          1,
          1,
          1,
          1,
          1,
          1,
          1,
          1,
          1,
          1,
          1,
          1,
          1,
          1,
          1,
          1,
          1,
          1,
          1,
          1,
          1,
          1,
          1,
          1,
          1,
          1,
          1,
          1,
          1,
          1,
          1,
          1,
          1,
          1,
          1,
          1,
          1,
          1,
          1,
          1,
          1,
          1,
          1,
          1,
          1,
          1,
          1,
          1,
          1,
          1,
          1,
          1,
          1,
          1,
          1,
          1,
          1,
          1,
          1,
          1,
          1,
          1,
          1,
          1,
          1,
          1,
          1,
          1,
          1,
          1,
          1,
          1,
          1,
          1,
          1,
          1,
          1,
          1,
          1,
          1,
          1,
          1,
          1,
          1,
          1,
          1,
          1,
          1,
          1,
          1,
          1,
          1,
          1,
          1,
          1,
          1,
          1,
          1,
          1,
          1,
          1,
          1,
          1,
          1,
          1,
          1,
          1,
          1,
          1,
          1,
          1,
          1,
          1,
          1,
          1,
          1,
          1,
          1,
          1,
          1,
          1,
          1,
          1,
          1,
          1,
          1,
          1,
          1,
          1,
          1,
          1,
          1,
          1,
          1,
          1,
          1,
          1,
          1,
          1,
          1,
          1,
          1,
          1,
          1,
          1,
          1,
          1,
          1,
          1,
          1,
          1,
          1,
          1,
          1,
          1,
          1,
          1,
          1,
          1,
          1,
          1,
          1,
          1,
          1,
          1,
          1,
          1,
          1,
          1,
          1,
          1,
          1,
          1,
          1,
          1,
          1,
          1,
          1,
          1,
          1,
          1,
          1,
          1,
          1,
          1,
          1,
          1,
          1,
          1,
          1,
          1,
          1,
          1,
          1,
          1,
          1,
          1,
          1,
          1,
          1,
          1,
          1,
          1,
          1,
          1,
          1,
          1,
          1,
          1,
          1,
          1,
          1,
          1,
          1,
          1,
          1,
          1,
          1,
          1,
          1,
          1,
          1,
          1,
          1,
          1,
          1,
          1,
          1,
          1,
          1,
          1,
          1,
          1,
          1,
          1,
          1,
          1,
          1,
          1,
          1,
          1,
          1,
          1,
          1,
          1,
          1,
          1,
          1,
          1,
          1,
          1,
          1,
          1,
          1,
          1,
          1,
          1,
          1,
          1,
          1,
          1,
          1,
          1,
          1,
          1,
          1,
          1,
          1,
          1,
          1,
          1,
          1,
          1,
          1,
          1,
          1,
          1,
          1,
          1,
          1,
          1,
          1,
          1,
          1,
          1,
          1,
          1,
          1,
          1,
          1,
          1,
          1,
          1,
          1,
          1,
          1,
          1,
          1,
          1,
          1,
          1,
          1,
          1,
          1,
          1,
          1,
          1,
          1,
          1,
          1,
          1,
          1,
          1,
          1,
          1,
          1,
          1,
          1,
          1,
          1,
          1,
          1,
          1,
          1,
          1,
          1,
          1,
          1,
          1,
          1,
          1,
          1,
          1,
          1,
          1,
          1,
          1,
          1,
          1,
          1,
          1,
          1,
          1,
          1,
          1,
          1,
          1,
          1,
          1,
          1,
          1,
          1,
          1,
          1,
          1,
          1,
          1,
          1,
          1,
          1,
          1,
          1,
          1,
          1,
          1,
          1,
          1,
          1,
          1,
          1,
          1,
          1,
          1,
          1,
          1,
          1,
          1,
          1,
          1,
          1,
          1,
          1,
          1,
          1,
          1,
          1,
          1,
          1,
          1,
          1,
          1,
          1,
          1,
          1,
          1,
          1,
          1,
          1,
          1,
          1,
          1,
          1,
          1,
          1,
          1,
          1,
          1,
          1,
          1,
          1,
          1,
          1,
          1,
          1,
          1,
          1,
          1,
          1,
          1,
          1,
          1,
          1,
          1,
          1,
          1,
          1,
          1,
          1,
          1,
          1,
          1,
          1,
          1,
          1,
          1,
          1,
          1,
          1,
          1,
          1,
          1,
          1,
          1,
          1,
          1,
          1,
          1,
          1,
          1,
          1,
          1,
          1,
          1,
          1,
          1,
          1,
          1,
          1,
          1,
          1,
          1,
          1,
          1,
          1,
          1,
          1,
          1,
          1,
          1,
          1,
          1,
          1,
          1,
          1,
          1,
          1,
          1,
          1,
          1,
          1,
          1,
          1,
          1,
          1,
          1,
          1,
          1,
          1,
          1,
          1,
          1,
          1,
          1,
          1,
          1,
          1,
          1,
          1,
          1,
          1,
          1,
          1,
          1,
          1,
          1,
          1,
          1,
          1,
          1,
          1,
          1,
          1,
          1,
          1,
          1,
          1,
          1,
          1,
          1,
          1,
          1,
          1,
          1,
          1,
          1,
          1,
          1,
          1,
          1,
          1,
          1,
          1,
          1,
          1,
          1,
          1,
          1,
          1,
          1,
          1
         ],
         "yaxis": "y"
        },
        {
         "hovertemplate": "Feet above ground=%{x}<br>Cost: Total $=%{y}<extra></extra>",
         "legendgroup": "",
         "marker": {
          "color": "green",
          "symbol": "circle"
         },
         "mode": "markers",
         "name": "",
         "orientation": "v",
         "showlegend": false,
         "type": "scatter",
         "x": [
          1500,
          150,
          100,
          800,
          0,
          0,
          800,
          0,
          9000,
          100,
          0,
          0,
          700,
          150,
          0,
          1000,
          10,
          0,
          1600,
          200,
          800,
          400,
          7000,
          0,
          100,
          0,
          10800,
          15,
          30,
          14000,
          10,
          5000,
          1500,
          0,
          720,
          1000,
          0,
          400,
          0,
          0,
          0,
          0,
          0,
          0,
          0,
          20,
          25,
          4000,
          50,
          2900,
          0,
          0,
          0,
          200,
          4800,
          75,
          10,
          15,
          3000,
          0,
          200,
          5500,
          500,
          1000,
          100,
          1500,
          0,
          3200,
          0,
          500,
          50,
          0,
          0,
          350,
          2000,
          1800,
          10,
          700,
          0,
          10,
          100,
          10,
          0,
          500,
          0,
          5000,
          2,
          0,
          3000,
          200,
          800,
          5,
          3000,
          50,
          200,
          5200,
          0,
          3500,
          0,
          5,
          10,
          5,
          0,
          50,
          5,
          1000,
          5,
          3000,
          50,
          1000,
          2900,
          1500,
          100,
          10,
          100,
          1800,
          4000,
          0,
          0,
          0,
          2000,
          15,
          600,
          1500,
          2400,
          0,
          0,
          600,
          3,
          10,
          4000,
          2000,
          0,
          10,
          5500,
          200,
          4260,
          500,
          800,
          2000,
          1200,
          2000,
          20,
          0,
          6000,
          200,
          900,
          20,
          0,
          0,
          0,
          5,
          6800,
          5,
          10,
          0,
          5,
          500,
          800,
          4000,
          6600,
          800,
          0,
          5,
          1000,
          2000,
          1200,
          2000,
          1200,
          0,
          0,
          300,
          2500,
          0,
          300,
          3800,
          400,
          0,
          1900,
          150,
          2500,
          10,
          10,
          200,
          5,
          14000,
          0,
          75,
          50,
          0,
          10,
          2300,
          0,
          500,
          0,
          200,
          50,
          0,
          10,
          10,
          100,
          0,
          0,
          50,
          35,
          20,
          10,
          0,
          30,
          200,
          1000,
          400,
          100,
          3000,
          200,
          0,
          0,
          3000,
          1500,
          400,
          2500,
          2400,
          5000,
          700,
          5000,
          500,
          100,
          2000,
          1000,
          0,
          50,
          1400,
          0,
          0,
          1500,
          9,
          50,
          50,
          0,
          0,
          0,
          0,
          0,
          0,
          750,
          10000,
          3000,
          0,
          100,
          50,
          0,
          500,
          200,
          1800,
          300,
          1800,
          2300,
          50,
          0,
          4500,
          3000,
          0,
          150,
          100,
          5500,
          10000,
          0,
          0,
          1000,
          500,
          0,
          0,
          0,
          0,
          0,
          100,
          0,
          2000,
          0,
          2800,
          1500,
          8000,
          2000,
          800,
          180,
          0,
          5000,
          0,
          0,
          0,
          1500,
          0,
          100,
          2000,
          5,
          100,
          3000,
          0,
          1800,
          0,
          100,
          2000,
          0,
          10,
          1000,
          0,
          0,
          0,
          0,
          0,
          200,
          6,
          500,
          800,
          300,
          1500,
          4000,
          12000,
          75,
          0,
          1000,
          1000,
          0,
          7000,
          15,
          300,
          150,
          400,
          150,
          400,
          350,
          300,
          0,
          2,
          50,
          0,
          0,
          1500,
          2000,
          1800,
          0,
          0,
          5,
          25,
          0,
          300,
          0,
          75,
          0,
          400,
          800,
          0,
          0,
          1500,
          1000,
          100,
          0,
          4,
          0,
          1000,
          600,
          500,
          0,
          1500,
          50,
          0,
          1200,
          0,
          100,
          5000,
          800,
          0,
          0,
          100,
          0,
          0,
          1000,
          0,
          20,
          0,
          0,
          0,
          600,
          0,
          400,
          100,
          0,
          750,
          0,
          500,
          50,
          0,
          300,
          10000,
          0,
          10,
          0,
          3000,
          1000,
          30,
          30,
          200,
          2500,
          150,
          0,
          9500,
          0,
          4300,
          0,
          0,
          1650,
          0,
          1000,
          35,
          200,
          0,
          2000,
          0,
          600,
          50,
          500,
          0,
          200,
          450,
          500,
          2000,
          3500,
          400,
          0,
          10,
          300,
          0,
          700,
          200,
          1800,
          300,
          0,
          50,
          0,
          30,
          0,
          300,
          0,
          75,
          40,
          2500,
          0,
          0,
          8500,
          4500,
          0,
          6100,
          1000,
          4000,
          0,
          20,
          60,
          2300,
          0,
          1200,
          400,
          20,
          0,
          1500,
          350,
          100,
          820,
          0,
          10,
          3000,
          600,
          50,
          900,
          800,
          1750,
          5100,
          100,
          3000,
          1500,
          560,
          0,
          0,
          2000,
          2500,
          2200,
          1500,
          800,
          0,
          20,
          800,
          0,
          1500,
          3,
          0,
          5,
          0,
          1300,
          0,
          20,
          0,
          0,
          10,
          2130,
          0,
          10,
          4000,
          1800,
          50,
          2200,
          0,
          7100,
          500,
          250,
          30,
          600,
          350,
          520,
          0,
          0,
          1000,
          1200,
          0,
          1000,
          75,
          2000,
          0,
          750,
          14000,
          0,
          400,
          0,
          4100,
          1800,
          800,
          10,
          190,
          1500,
          0,
          0,
          0,
          5,
          13400,
          50,
          0,
          0,
          1500,
          0,
          0,
          150,
          2300,
          400,
          1000,
          0,
          500,
          0,
          250,
          200,
          2400,
          0,
          20,
          200,
          500,
          0,
          200,
          0,
          400,
          200,
          200,
          2000,
          0,
          500,
          1400,
          30,
          75,
          5800,
          100,
          0,
          1300,
          50,
          1000,
          2400,
          900,
          7500,
          400,
          200,
          500,
          1200,
          0,
          500,
          400,
          100,
          400,
          0,
          3000,
          0,
          2100,
          0,
          0,
          0,
          0,
          0,
          100,
          100,
          300,
          500,
          1300,
          1500,
          300,
          2000,
          4000,
          40,
          1300,
          0,
          10,
          7000,
          3500,
          350,
          8000,
          10,
          1500,
          7500,
          1000,
          0,
          0,
          10000,
          800,
          2500,
          2200,
          1800,
          0,
          525,
          6000,
          700,
          200,
          800,
          2500,
          5000,
          0,
          0,
          0,
          400,
          2400,
          200,
          2500,
          0,
          14000,
          1000,
          4,
          1000,
          0,
          0,
          2000,
          0,
          3800,
          0,
          20,
          150,
          600,
          0,
          0,
          100,
          1200,
          1500,
          300,
          0,
          2500,
          0,
          1100,
          2600,
          50,
          5,
          3500,
          10,
          10,
          0,
          50,
          300,
          0,
          8000,
          7000,
          1500,
          500,
          800,
          8000,
          700,
          7000,
          200,
          800,
          1000,
          0,
          0,
          2800,
          5,
          10,
          800,
          65,
          200,
          75,
          1200,
          50,
          300,
          2800,
          10,
          25,
          2700,
          500,
          3000,
          400,
          0,
          0,
          4000,
          0,
          0,
          4000,
          550,
          0,
          4500,
          2000,
          500,
          3000,
          10,
          2000,
          0,
          300,
          75,
          0,
          0,
          1500,
          0,
          0,
          5,
          11000,
          5,
          0,
          500,
          40,
          50,
          2500,
          3000,
          7,
          400,
          10,
          800,
          1000,
          100,
          2500,
          0,
          400,
          5000,
          100,
          1800,
          650,
          100,
          1000,
          400,
          800,
          6,
          1000,
          2500,
          3400,
          200,
          4000,
          10,
          100,
          150,
          0,
          15000,
          4,
          0,
          300,
          200,
          10,
          0,
          200,
          2000,
          0,
          0,
          9700,
          0,
          0,
          30,
          0,
          0,
          2400,
          1000,
          12000,
          300,
          100,
          1500,
          1100,
          900,
          6000,
          300,
          1000,
          800,
          40,
          1000,
          0,
          4000,
          1300,
          500,
          1000,
          2000,
          7500,
          0
         ],
         "xaxis": "x2",
         "y": [
          30736,
          1481711,
          1483141,
          35146,
          10691,
          801820,
          211146,
          40091,
          56127,
          1431761,
          12397751,
          1302,
          162481,
          3644483,
          19524,
          262923,
          45556,
          65080,
          1366681,
          31239,
          169877,
          570483,
          828806,
          253548,
          467,
          4437,
          17748,
          2535,
          5071,
          5564,
          1774836,
          5071,
          63387,
          163538,
          6339,
          123476,
          1482,
          11342,
          30869,
          131022,
          19547,
          37043,
          11731,
          154345,
          18521,
          18521,
          1234759,
          75320,
          74086,
          619849,
          18040,
          3006592,
          42092,
          6174,
          81641,
          2044,
          120,
          12026,
          72158,
          101748,
          30066,
          24053,
          117135,
          11714,
          8199,
          1288485,
          40997,
          605,
          9137,
          258105,
          149347,
          7614,
          5125,
          36251,
          2929,
          18741,
          34226,
          1027,
          81037,
          20821,
          28522,
          119792,
          3423,
          926193,
          61608,
          17113,
          171132,
          199654,
          59896,
          19395,
          11409,
          17684,
          527819,
          11112,
          6745,
          333,
          22224,
          8334,
          4112,
          17779,
          556,
          1111,
          36670,
          33336,
          55560,
          5556,
          20002,
          66848,
          41114,
          2111275,
          9612,
          33336,
          73602,
          216458,
          16234,
          2164579,
          216458,
          1623,
          10823,
          21646,
          75761,
          432915,
          39937,
          36895,
          33732,
          2108,
          16866,
          27196,
          6325,
          231909,
          422,
          21083,
          110684,
          132433,
          848578,
          77479,
          2846160,
          26458,
          52707,
          31624,
          221949,
          184200,
          205,
          3080,
          51336,
          20534,
          410684,
          133472,
          262838,
          36458,
          5134,
          77004,
          1026710,
          114469,
          513,
          616,
          1540,
          11808,
          73923,
          202468,
          241277,
          513,
          61603,
          66736,
          26245,
          73923,
          2104756,
          3228053,
          793776,
          156000,
          50000,
          50,
          400000,
          100000,
          108493,
          21000,
          1000,
          5000,
          11000,
          4812,
          126237,
          20046,
          113592,
          12562,
          33409,
          1301601,
          1901610,
          1813,
          218051,
          31693,
          146937,
          648249,
          2469519,
          926070,
          70356,
          312686,
          723987,
          120,
          240127,
          5857,
          9371,
          570,
          2282,
          5704387,
          114088,
          872290,
          667,
          38892,
          88000,
          120273,
          9488,
          134,
          2005,
          1336,
          33275,
          136309,
          412,
          526529,
          151009,
          4188,
          44100,
          100228,
          171186,
          66818,
          11287,
          334091,
          13364,
          8018,
          32073,
          151010,
          7885,
          40091,
          13364,
          1069,
          26727,
          26162,
          2673,
          26727,
          4343,
          80182,
          4544,
          40091,
          94017,
          40091,
          534547,
          21232,
          167,
          20046,
          56591,
          16370,
          113591,
          802,
          20046,
          1650,
          112255,
          193773,
          66818,
          20046,
          66818,
          29273,
          13016,
          10022,
          26553,
          2332,
          49726,
          7810,
          13016,
          19524,
          130,
          3905,
          65,
          208256,
          32540,
          1164933,
          33842,
          559688,
          10933,
          9111,
          2603,
          130,
          9111,
          84604,
          78096,
          1302,
          57270,
          5705,
          26623,
          19016,
          562030,
          69726,
          10776,
          95081,
          24087,
          6973,
          12677,
          126774,
          7606,
          317,
          2409,
          126774,
          254,
          570,
          2535,
          21551,
          1382,
          158467,
          19016,
          760644,
          25355,
          50710,
          98544,
          53245,
          8595,
          95081,
          444,
          101419,
          139451,
          31693,
          3930,
          380,
          63767,
          56288,
          380,
          3676,
          82403,
          3803,
          14817,
          43798,
          2223,
          913722,
          617,
          8643,
          123476,
          2470,
          308690,
          2272945,
          112182,
          9878,
          1729,
          229789,
          229789,
          133354,
          4322,
          11730,
          20991,
          1852,
          18521,
          9879,
          64731,
          370,
          5680,
          30869,
          2470,
          43216,
          6050,
          4939,
          19139,
          45486,
          4198,
          23584,
          74086,
          15064,
          926,
          40130,
          105832,
          270593,
          68550,
          1203,
          2405,
          12026,
          466624,
          29325,
          96211,
          7336,
          24053,
          43896,
          13894,
          124,
          276606,
          84184,
          68550,
          145579,
          60,
          318699,
          3007,
          902,
          114250,
          22851,
          24053,
          2405,
          8418,
          49309,
          2930,
          6013,
          164761,
          14432,
          6615,
          902,
          15634,
          3608,
          10223,
          190017,
          26458,
          60132,
          16236,
          3144,
          3127,
          3007,
          84185,
          6314,
          4132,
          7216,
          24053,
          30293,
          36079,
          79975,
          13693,
          46855,
          23427,
          17570,
          30455,
          469,
          23427,
          23427,
          35141,
          5857,
          23661,
          4685,
          176,
          35141,
          13471,
          17570,
          141,
          2694,
          29940,
          2460,
          4685,
          937080,
          5271,
          36068,
          193273,
          4686,
          14759,
          18741,
          35141,
          14642,
          383031,
          58567,
          12241,
          29284,
          351405,
          9371,
          4100,
          679,
          1757025,
          72624,
          6442,
          38655,
          39826,
          7028,
          7051,
          29284,
          292838,
          4685,
          65596,
          278514,
          4564,
          36508,
          26915,
          8442,
          2282,
          2852,
          342,
          12550,
          13831,
          36508,
          34226,
          201876,
          154019,
          570,
          513,
          22818,
          60466,
          5704,
          855658,
          5932,
          21677,
          94878,
          1118,
          5704,
          68453,
          690,
          11409,
          1711,
          2932,
          399307,
          114088,
          342,
          347967,
          43354,
          11357,
          17113,
          70164,
          228175,
          1141,
          2282,
          228,
          5704387,
          57,
          4564,
          28522,
          570,
          45635,
          73016,
          2852,
          36166,
          20668,
          2856,
          11112,
          69672,
          222239,
          2333,
          6667,
          55560,
          44448,
          16132,
          22224,
          34003,
          182710,
          1111,
          9445,
          111120,
          52226,
          4890,
          1111197,
          5556,
          33460,
          44448,
          1000078,
          169458,
          3556,
          7223,
          319,
          433367,
          3334,
          5556,
          1806,
          78093,
          1556,
          16668,
          2945,
          2222,
          4895,
          111,
          106675,
          4843,
          500039,
          169165,
          161124,
          667,
          222,
          55560,
          55893,
          17335,
          15997,
          19446,
          666719,
          1290883,
          10001,
          91995,
          1655903,
          7035,
          27057,
          3247,
          54114,
          29222,
          16234,
          43292,
          54,
          3377,
          16234,
          3247,
          124463,
          9199,
          107147,
          1623,
          51247,
          9416,
          541145,
          208882,
          1082,
          2165,
          984,
          32469,
          108229,
          82254,
          974,
          24811,
          75760,
          872325,
          12988,
          10823,
          5412,
          6493,
          89830,
          27057,
          55349,
          4329,
          6061,
          99571,
          10388,
          4546,
          51950,
          1082,
          5411,
          11905,
          75760,
          32469,
          21646,
          8658,
          541,
          64937,
          3463326,
          2165,
          54114,
          4329,
          130957,
          49242,
          12987,
          4329,
          162,
          24892,
          158120,
          52707,
          15812,
          8433,
          126496,
          63248,
          8433,
          319985,
          3162,
          21610,
          74843,
          5376,
          11323,
          7379,
          21083,
          843,
          53078,
          44906,
          158120,
          8433,
          1581,
          261952,
          7379,
          26,
          263533,
          7379,
          1054,
          105,
          90,
          6325,
          1054,
          2108,
          263533,
          7116,
          26353,
          414801,
          158120,
          527,
          15812,
          6852,
          8433,
          87493,
          29515,
          527067,
          23718,
          54815,
          20489,
          22664,
          126496,
          1581,
          21,
          422,
          1265,
          281154,
          34786,
          527,
          11097,
          44273,
          210827,
          5692,
          105413,
          108154,
          1054,
          2635,
          154,
          41068,
          38904,
          123205,
          82137,
          7187,
          616,
          21766,
          1027,
          864490,
          23614,
          459491,
          20534,
          17454,
          10267,
          231010,
          65828,
          48256,
          1027,
          25668,
          6468,
          51335,
          1130,
          2054,
          2669,
          12320,
          103096,
          78235,
          103,
          71870,
          15401,
          308,
          513,
          2977459,
          924,
          51336,
          84190,
          41068,
          1027,
          513,
          3080,
          14785,
          5134,
          15401,
          3080,
          5134,
          71870,
          7290,
          5134,
          154,
          103,
          10267,
          22588,
          30801,
          250000,
          250000,
          80267,
          30000,
          1000000,
          60000,
          500,
          4224,
          6800,
          50,
          9000,
          360000,
          4570000,
          500,
          600,
          10234,
          200,
          98857,
          14400,
          1000,
          2300,
          1700,
          14245,
          55000,
          122000,
          30000,
          25000,
          3000,
          60000,
          2900,
          10000,
          300000,
          49500,
          4000,
          70000,
          50000,
          11800,
          1000,
          8900,
          9000,
          1000,
          18500,
          14000,
          22000,
          5000,
          150,
          56000,
          100000,
          5000,
          12490,
          28408,
          52212,
          25700,
          175000,
          200
         ],
         "yaxis": "y2"
        }
       ],
       "layout": {
        "annotations": [
         {
          "font": {
           "size": 16
          },
          "showarrow": false,
          "text": "Height to Strikes",
          "x": 0.225,
          "xanchor": "center",
          "xref": "paper",
          "y": 1,
          "yanchor": "bottom",
          "yref": "paper"
         },
         {
          "font": {
           "size": 16
          },
          "showarrow": false,
          "text": "Height to Cost",
          "x": 0.775,
          "xanchor": "center",
          "xref": "paper",
          "y": 1,
          "yanchor": "bottom",
          "yref": "paper"
         }
        ],
        "template": {
         "data": {
          "bar": [
           {
            "error_x": {
             "color": "#2a3f5f"
            },
            "error_y": {
             "color": "#2a3f5f"
            },
            "marker": {
             "line": {
              "color": "#E5ECF6",
              "width": 0.5
             },
             "pattern": {
              "fillmode": "overlay",
              "size": 10,
              "solidity": 0.2
             }
            },
            "type": "bar"
           }
          ],
          "barpolar": [
           {
            "marker": {
             "line": {
              "color": "#E5ECF6",
              "width": 0.5
             },
             "pattern": {
              "fillmode": "overlay",
              "size": 10,
              "solidity": 0.2
             }
            },
            "type": "barpolar"
           }
          ],
          "carpet": [
           {
            "aaxis": {
             "endlinecolor": "#2a3f5f",
             "gridcolor": "white",
             "linecolor": "white",
             "minorgridcolor": "white",
             "startlinecolor": "#2a3f5f"
            },
            "baxis": {
             "endlinecolor": "#2a3f5f",
             "gridcolor": "white",
             "linecolor": "white",
             "minorgridcolor": "white",
             "startlinecolor": "#2a3f5f"
            },
            "type": "carpet"
           }
          ],
          "choropleth": [
           {
            "colorbar": {
             "outlinewidth": 0,
             "ticks": ""
            },
            "type": "choropleth"
           }
          ],
          "contour": [
           {
            "colorbar": {
             "outlinewidth": 0,
             "ticks": ""
            },
            "colorscale": [
             [
              0,
              "#0d0887"
             ],
             [
              0.1111111111111111,
              "#46039f"
             ],
             [
              0.2222222222222222,
              "#7201a8"
             ],
             [
              0.3333333333333333,
              "#9c179e"
             ],
             [
              0.4444444444444444,
              "#bd3786"
             ],
             [
              0.5555555555555556,
              "#d8576b"
             ],
             [
              0.6666666666666666,
              "#ed7953"
             ],
             [
              0.7777777777777778,
              "#fb9f3a"
             ],
             [
              0.8888888888888888,
              "#fdca26"
             ],
             [
              1,
              "#f0f921"
             ]
            ],
            "type": "contour"
           }
          ],
          "contourcarpet": [
           {
            "colorbar": {
             "outlinewidth": 0,
             "ticks": ""
            },
            "type": "contourcarpet"
           }
          ],
          "heatmap": [
           {
            "colorbar": {
             "outlinewidth": 0,
             "ticks": ""
            },
            "colorscale": [
             [
              0,
              "#0d0887"
             ],
             [
              0.1111111111111111,
              "#46039f"
             ],
             [
              0.2222222222222222,
              "#7201a8"
             ],
             [
              0.3333333333333333,
              "#9c179e"
             ],
             [
              0.4444444444444444,
              "#bd3786"
             ],
             [
              0.5555555555555556,
              "#d8576b"
             ],
             [
              0.6666666666666666,
              "#ed7953"
             ],
             [
              0.7777777777777778,
              "#fb9f3a"
             ],
             [
              0.8888888888888888,
              "#fdca26"
             ],
             [
              1,
              "#f0f921"
             ]
            ],
            "type": "heatmap"
           }
          ],
          "heatmapgl": [
           {
            "colorbar": {
             "outlinewidth": 0,
             "ticks": ""
            },
            "colorscale": [
             [
              0,
              "#0d0887"
             ],
             [
              0.1111111111111111,
              "#46039f"
             ],
             [
              0.2222222222222222,
              "#7201a8"
             ],
             [
              0.3333333333333333,
              "#9c179e"
             ],
             [
              0.4444444444444444,
              "#bd3786"
             ],
             [
              0.5555555555555556,
              "#d8576b"
             ],
             [
              0.6666666666666666,
              "#ed7953"
             ],
             [
              0.7777777777777778,
              "#fb9f3a"
             ],
             [
              0.8888888888888888,
              "#fdca26"
             ],
             [
              1,
              "#f0f921"
             ]
            ],
            "type": "heatmapgl"
           }
          ],
          "histogram": [
           {
            "marker": {
             "pattern": {
              "fillmode": "overlay",
              "size": 10,
              "solidity": 0.2
             }
            },
            "type": "histogram"
           }
          ],
          "histogram2d": [
           {
            "colorbar": {
             "outlinewidth": 0,
             "ticks": ""
            },
            "colorscale": [
             [
              0,
              "#0d0887"
             ],
             [
              0.1111111111111111,
              "#46039f"
             ],
             [
              0.2222222222222222,
              "#7201a8"
             ],
             [
              0.3333333333333333,
              "#9c179e"
             ],
             [
              0.4444444444444444,
              "#bd3786"
             ],
             [
              0.5555555555555556,
              "#d8576b"
             ],
             [
              0.6666666666666666,
              "#ed7953"
             ],
             [
              0.7777777777777778,
              "#fb9f3a"
             ],
             [
              0.8888888888888888,
              "#fdca26"
             ],
             [
              1,
              "#f0f921"
             ]
            ],
            "type": "histogram2d"
           }
          ],
          "histogram2dcontour": [
           {
            "colorbar": {
             "outlinewidth": 0,
             "ticks": ""
            },
            "colorscale": [
             [
              0,
              "#0d0887"
             ],
             [
              0.1111111111111111,
              "#46039f"
             ],
             [
              0.2222222222222222,
              "#7201a8"
             ],
             [
              0.3333333333333333,
              "#9c179e"
             ],
             [
              0.4444444444444444,
              "#bd3786"
             ],
             [
              0.5555555555555556,
              "#d8576b"
             ],
             [
              0.6666666666666666,
              "#ed7953"
             ],
             [
              0.7777777777777778,
              "#fb9f3a"
             ],
             [
              0.8888888888888888,
              "#fdca26"
             ],
             [
              1,
              "#f0f921"
             ]
            ],
            "type": "histogram2dcontour"
           }
          ],
          "mesh3d": [
           {
            "colorbar": {
             "outlinewidth": 0,
             "ticks": ""
            },
            "type": "mesh3d"
           }
          ],
          "parcoords": [
           {
            "line": {
             "colorbar": {
              "outlinewidth": 0,
              "ticks": ""
             }
            },
            "type": "parcoords"
           }
          ],
          "pie": [
           {
            "automargin": true,
            "type": "pie"
           }
          ],
          "scatter": [
           {
            "fillpattern": {
             "fillmode": "overlay",
             "size": 10,
             "solidity": 0.2
            },
            "type": "scatter"
           }
          ],
          "scatter3d": [
           {
            "line": {
             "colorbar": {
              "outlinewidth": 0,
              "ticks": ""
             }
            },
            "marker": {
             "colorbar": {
              "outlinewidth": 0,
              "ticks": ""
             }
            },
            "type": "scatter3d"
           }
          ],
          "scattercarpet": [
           {
            "marker": {
             "colorbar": {
              "outlinewidth": 0,
              "ticks": ""
             }
            },
            "type": "scattercarpet"
           }
          ],
          "scattergeo": [
           {
            "marker": {
             "colorbar": {
              "outlinewidth": 0,
              "ticks": ""
             }
            },
            "type": "scattergeo"
           }
          ],
          "scattergl": [
           {
            "marker": {
             "colorbar": {
              "outlinewidth": 0,
              "ticks": ""
             }
            },
            "type": "scattergl"
           }
          ],
          "scattermapbox": [
           {
            "marker": {
             "colorbar": {
              "outlinewidth": 0,
              "ticks": ""
             }
            },
            "type": "scattermapbox"
           }
          ],
          "scatterpolar": [
           {
            "marker": {
             "colorbar": {
              "outlinewidth": 0,
              "ticks": ""
             }
            },
            "type": "scatterpolar"
           }
          ],
          "scatterpolargl": [
           {
            "marker": {
             "colorbar": {
              "outlinewidth": 0,
              "ticks": ""
             }
            },
            "type": "scatterpolargl"
           }
          ],
          "scatterternary": [
           {
            "marker": {
             "colorbar": {
              "outlinewidth": 0,
              "ticks": ""
             }
            },
            "type": "scatterternary"
           }
          ],
          "surface": [
           {
            "colorbar": {
             "outlinewidth": 0,
             "ticks": ""
            },
            "colorscale": [
             [
              0,
              "#0d0887"
             ],
             [
              0.1111111111111111,
              "#46039f"
             ],
             [
              0.2222222222222222,
              "#7201a8"
             ],
             [
              0.3333333333333333,
              "#9c179e"
             ],
             [
              0.4444444444444444,
              "#bd3786"
             ],
             [
              0.5555555555555556,
              "#d8576b"
             ],
             [
              0.6666666666666666,
              "#ed7953"
             ],
             [
              0.7777777777777778,
              "#fb9f3a"
             ],
             [
              0.8888888888888888,
              "#fdca26"
             ],
             [
              1,
              "#f0f921"
             ]
            ],
            "type": "surface"
           }
          ],
          "table": [
           {
            "cells": {
             "fill": {
              "color": "#EBF0F8"
             },
             "line": {
              "color": "white"
             }
            },
            "header": {
             "fill": {
              "color": "#C8D4E3"
             },
             "line": {
              "color": "white"
             }
            },
            "type": "table"
           }
          ]
         },
         "layout": {
          "annotationdefaults": {
           "arrowcolor": "#2a3f5f",
           "arrowhead": 0,
           "arrowwidth": 1
          },
          "autotypenumbers": "strict",
          "coloraxis": {
           "colorbar": {
            "outlinewidth": 0,
            "ticks": ""
           }
          },
          "colorscale": {
           "diverging": [
            [
             0,
             "#8e0152"
            ],
            [
             0.1,
             "#c51b7d"
            ],
            [
             0.2,
             "#de77ae"
            ],
            [
             0.3,
             "#f1b6da"
            ],
            [
             0.4,
             "#fde0ef"
            ],
            [
             0.5,
             "#f7f7f7"
            ],
            [
             0.6,
             "#e6f5d0"
            ],
            [
             0.7,
             "#b8e186"
            ],
            [
             0.8,
             "#7fbc41"
            ],
            [
             0.9,
             "#4d9221"
            ],
            [
             1,
             "#276419"
            ]
           ],
           "sequential": [
            [
             0,
             "#0d0887"
            ],
            [
             0.1111111111111111,
             "#46039f"
            ],
            [
             0.2222222222222222,
             "#7201a8"
            ],
            [
             0.3333333333333333,
             "#9c179e"
            ],
            [
             0.4444444444444444,
             "#bd3786"
            ],
            [
             0.5555555555555556,
             "#d8576b"
            ],
            [
             0.6666666666666666,
             "#ed7953"
            ],
            [
             0.7777777777777778,
             "#fb9f3a"
            ],
            [
             0.8888888888888888,
             "#fdca26"
            ],
            [
             1,
             "#f0f921"
            ]
           ],
           "sequentialminus": [
            [
             0,
             "#0d0887"
            ],
            [
             0.1111111111111111,
             "#46039f"
            ],
            [
             0.2222222222222222,
             "#7201a8"
            ],
            [
             0.3333333333333333,
             "#9c179e"
            ],
            [
             0.4444444444444444,
             "#bd3786"
            ],
            [
             0.5555555555555556,
             "#d8576b"
            ],
            [
             0.6666666666666666,
             "#ed7953"
            ],
            [
             0.7777777777777778,
             "#fb9f3a"
            ],
            [
             0.8888888888888888,
             "#fdca26"
            ],
            [
             1,
             "#f0f921"
            ]
           ]
          },
          "colorway": [
           "#636efa",
           "#EF553B",
           "#00cc96",
           "#ab63fa",
           "#FFA15A",
           "#19d3f3",
           "#FF6692",
           "#B6E880",
           "#FF97FF",
           "#FECB52"
          ],
          "font": {
           "color": "#2a3f5f"
          },
          "geo": {
           "bgcolor": "white",
           "lakecolor": "white",
           "landcolor": "#E5ECF6",
           "showlakes": true,
           "showland": true,
           "subunitcolor": "white"
          },
          "hoverlabel": {
           "align": "left"
          },
          "hovermode": "closest",
          "mapbox": {
           "style": "light"
          },
          "paper_bgcolor": "white",
          "plot_bgcolor": "#E5ECF6",
          "polar": {
           "angularaxis": {
            "gridcolor": "white",
            "linecolor": "white",
            "ticks": ""
           },
           "bgcolor": "#E5ECF6",
           "radialaxis": {
            "gridcolor": "white",
            "linecolor": "white",
            "ticks": ""
           }
          },
          "scene": {
           "xaxis": {
            "backgroundcolor": "#E5ECF6",
            "gridcolor": "white",
            "gridwidth": 2,
            "linecolor": "white",
            "showbackground": true,
            "ticks": "",
            "zerolinecolor": "white"
           },
           "yaxis": {
            "backgroundcolor": "#E5ECF6",
            "gridcolor": "white",
            "gridwidth": 2,
            "linecolor": "white",
            "showbackground": true,
            "ticks": "",
            "zerolinecolor": "white"
           },
           "zaxis": {
            "backgroundcolor": "#E5ECF6",
            "gridcolor": "white",
            "gridwidth": 2,
            "linecolor": "white",
            "showbackground": true,
            "ticks": "",
            "zerolinecolor": "white"
           }
          },
          "shapedefaults": {
           "line": {
            "color": "#2a3f5f"
           }
          },
          "ternary": {
           "aaxis": {
            "gridcolor": "white",
            "linecolor": "white",
            "ticks": ""
           },
           "baxis": {
            "gridcolor": "white",
            "linecolor": "white",
            "ticks": ""
           },
           "bgcolor": "#E5ECF6",
           "caxis": {
            "gridcolor": "white",
            "linecolor": "white",
            "ticks": ""
           }
          },
          "title": {
           "x": 0.05
          },
          "xaxis": {
           "automargin": true,
           "gridcolor": "white",
           "linecolor": "white",
           "ticks": "",
           "title": {
            "standoff": 15
           },
           "zerolinecolor": "white",
           "zerolinewidth": 2
          },
          "yaxis": {
           "automargin": true,
           "gridcolor": "white",
           "linecolor": "white",
           "ticks": "",
           "title": {
            "standoff": 15
           },
           "zerolinecolor": "white",
           "zerolinewidth": 2
          }
         }
        },
        "xaxis": {
         "anchor": "y",
         "domain": [
          0,
          0.45
         ],
         "title": {
          "text": "Feet Above Ground"
         }
        },
        "xaxis2": {
         "anchor": "y2",
         "domain": [
          0.55,
          1
         ],
         "title": {
          "text": "Feet Above Ground"
         }
        },
        "yaxis": {
         "anchor": "x",
         "domain": [
          0,
          1
         ],
         "title": {
          "text": "No. of Strikes"
         }
        },
        "yaxis2": {
         "anchor": "x2",
         "domain": [
          0,
          1
         ],
         "title": {
          "text": "Total Cost"
         }
        }
       }
      }
     },
     "metadata": {},
     "output_type": "display_data"
    }
   ],
   "source": [
    "from plotly.subplots import make_subplots\n",
    "\n",
    "x = df[(df[DataSchema.effect_indicated_damage]) & (df[\"Any Cost?\"] == True)]\n",
    "costs = x[DataSchema.cost_total].to_numpy()\n",
    "heights = x[DataSchema.feet_above_ground].to_numpy()\n",
    "\n",
    "fig = make_subplots(rows=1, cols=2, subplot_titles=(\n",
    "    \"Height to Strikes\", \"Height to Cost\"))\n",
    "\n",
    "trace_one = px.scatter(x, y=DataSchema.wildlife_nbr_struck_actual,\n",
    "                       x=DataSchema.feet_above_ground).data[0]\n",
    "trace_two = px.scatter(x, y=DataSchema.cost_total, x=DataSchema.feet_above_ground, color_discrete_sequence=[\"green\"],\n",
    "                       ).data[0]\n",
    "\n",
    "fig.add_trace(trace=trace_one, row=1, col=1)\n",
    "fig.add_trace(trace=trace_two, row=1, col=2)\n",
    "fig.update_xaxes(row=1, col=1, title_text=\"Feet Above Ground\")\n",
    "fig.update_xaxes(row=1, col=2, title_text=\"Feet Above Ground\")\n",
    "fig.update_yaxes(row=1, col=1, title_text=\"No. of Strikes\")\n",
    "fig.update_yaxes(row=1, col=2, title_text=\"Total Cost\")\n",
    "\n",
    "fig.show()"
   ]
  },
  {
   "cell_type": "code",
   "execution_count": 54,
   "metadata": {},
   "outputs": [
    {
     "data": {
      "text/plain": [
       "[(-18.0, 1800.0], (3600.0, 5400.0], (1800.0, 3600.0], (7200.0, 9000.0], (5400.0, 7200.0], (9000.0, 10800.0], (12600.0, 14400.0], (14400.0, 16200.0], (10800.0, 12600.0], (16200.0, 18000.0]]\n",
       "Categories (10, interval[float64, right]): [(-18.0, 1800.0] < (1800.0, 3600.0] < (3600.0, 5400.0] < (5400.0, 7200.0] ... (10800.0, 12600.0] < (12600.0, 14400.0] < (14400.0, 16200.0] < (16200.0, 18000.0]]"
      ]
     },
     "execution_count": 54,
     "metadata": {},
     "output_type": "execute_result"
    }
   ],
   "source": [
    "# pivot = df[(df[DataSchema.effect_indicated_damage])& (df[\"Any Cost?\"] == True)]\n",
    "\n",
    "df[\"altitude_groups\"] = pd.cut(x=df[DataSchema.feet_above_ground],bins=10,right=True)\n",
    "\n",
    "df[\"altitude_groups\"].replace(pd.Series(map(lambda x: f'{x.left}-{x.right}',\n",
    "                        pd.cut(x=df[DataSchema.feet_above_ground], bins=10,right=True))))\n",
    "\n",
    "df[\"altitude_groups\"].unique()"
   ]
  },
  {
   "cell_type": "code",
   "execution_count": null,
   "metadata": {},
   "outputs": [
    {
     "name": "stdout",
     "output_type": "stream",
     "text": [
      "<class 'pandas.core.frame.DataFrame'>\n",
      "Index: 25193 entries, 202152 to 319593\n",
      "Data columns (total 25 columns):\n",
      " #   Column                                   Non-Null Count  Dtype         \n",
      "---  ------                                   --------------  -----         \n",
      " 0   Record ID                                25193 non-null  int64         \n",
      " 1   Aircraft: Type                           25193 non-null  category      \n",
      " 2   Airport: Name                            25193 non-null  category      \n",
      " 3   Altitude bin                             25193 non-null  category      \n",
      " 4   Aircraft: Make/Model                     25193 non-null  category      \n",
      " 5   Wildlife: Number struck                  25193 non-null  category      \n",
      " 6   Wildlife: Number Struck Actual           25193 non-null  int64         \n",
      " 7   FlightDate                               25193 non-null  datetime64[ns]\n",
      " 8   Effect: Indicated Damage                 25193 non-null  boolean       \n",
      " 9   Aircraft: Number of engines?             25193 non-null  category      \n",
      " 10  Aircraft: Airline/Operator               25193 non-null  category      \n",
      " 11  Origin State                             25193 non-null  category      \n",
      " 12  When: Phase of flight                    25193 non-null  category      \n",
      " 13  Remains of wildlife collected?           25193 non-null  boolean       \n",
      " 14  Remains of wildlife sent to Smithsonian  25193 non-null  boolean       \n",
      " 15  Wildlife: Size                           25193 non-null  category      \n",
      " 16  Conditions: Sky                          25193 non-null  category      \n",
      " 17  Wildlife: Species                        25193 non-null  category      \n",
      " 18  Pilot warned of birds or wildlife?       25193 non-null  boolean       \n",
      " 19  Cost: Total $                            25193 non-null  int64         \n",
      " 20  Feet above ground                        25193 non-null  float64       \n",
      " 21  Number of people injured                 25193 non-null  int64         \n",
      " 22  Is Aircraft Large?                       25193 non-null  bool          \n",
      " 23  year_groups                              25193 non-null  category      \n",
      " 24  Any Cost?                                25193 non-null  bool          \n",
      "dtypes: bool(2), boolean(4), category(13), datetime64[ns](1), float64(1), int64(4)\n",
      "memory usage: 2.1 MB\n"
     ]
    },
    {
     "ename": "TypeError",
     "evalue": "'NoneType' object is not subscriptable",
     "output_type": "error",
     "traceback": [
      "\u001b[1;31m---------------------------------------------------------------------------\u001b[0m",
      "\u001b[1;31mTypeError\u001b[0m                                 Traceback (most recent call last)",
      "Cell \u001b[1;32mIn[107], line 1\u001b[0m\n\u001b[1;32m----> 1\u001b[0m df\u001b[38;5;241m.\u001b[39minfo()[\u001b[38;5;124m\"\u001b[39m\u001b[38;5;124mAircraft: Number of engines?\u001b[39m\u001b[38;5;124m\"\u001b[39m]\n",
      "\u001b[1;31mTypeError\u001b[0m: 'NoneType' object is not subscriptable"
     ]
    }
   ],
   "source": [
    "df.info()"
   ]
  }
 ],
 "metadata": {
  "kernelspec": {
   "display_name": "amd",
   "language": "python",
   "name": "python3"
  },
  "language_info": {
   "codemirror_mode": {
    "name": "ipython",
    "version": 3
   },
   "file_extension": ".py",
   "mimetype": "text/x-python",
   "name": "python",
   "nbconvert_exporter": "python",
   "pygments_lexer": "ipython3",
   "version": "3.12.3"
  }
 },
 "nbformat": 4,
 "nbformat_minor": 2
}
